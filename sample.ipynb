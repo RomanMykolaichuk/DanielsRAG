{
 "cells": [
  {
   "cell_type": "code",
   "execution_count": 1,
   "metadata": {},
   "outputs": [
    {
     "name": "stdout",
     "output_type": "stream",
     "text": [
      "Requirement already satisfied: PyMuPDF==1.23.26 in c:\\automatization\\danielsrag\\.venv\\lib\\site-packages (from -r requirements.txt (line 1)) (1.23.26)\n",
      "Requirement already satisfied: matplotlib==3.8.3 in c:\\automatization\\danielsrag\\.venv\\lib\\site-packages (from -r requirements.txt (line 2)) (3.8.3)\n",
      "Requirement already satisfied: numpy==1.26.4 in c:\\automatization\\danielsrag\\.venv\\lib\\site-packages (from -r requirements.txt (line 3)) (1.26.4)\n",
      "Requirement already satisfied: pandas==2.2.1 in c:\\automatization\\danielsrag\\.venv\\lib\\site-packages (from -r requirements.txt (line 4)) (2.2.1)\n",
      "Requirement already satisfied: Requests==2.31.0 in c:\\automatization\\danielsrag\\.venv\\lib\\site-packages (from -r requirements.txt (line 5)) (2.31.0)\n",
      "Requirement already satisfied: sentence_transformers==2.5.1 in c:\\automatization\\danielsrag\\.venv\\lib\\site-packages (from -r requirements.txt (line 6)) (2.5.1)\n",
      "Requirement already satisfied: spacy in c:\\automatization\\danielsrag\\.venv\\lib\\site-packages (from -r requirements.txt (line 7)) (3.7.5)\n",
      "Requirement already satisfied: tqdm==4.66.2 in c:\\automatization\\danielsrag\\.venv\\lib\\site-packages (from -r requirements.txt (line 8)) (4.66.2)\n",
      "Requirement already satisfied: transformers==4.38.2 in c:\\automatization\\danielsrag\\.venv\\lib\\site-packages (from -r requirements.txt (line 9)) (4.38.2)\n",
      "Requirement already satisfied: accelerate in c:\\automatization\\danielsrag\\.venv\\lib\\site-packages (from -r requirements.txt (line 10)) (1.1.1)\n",
      "Requirement already satisfied: bitsandbytes in c:\\automatization\\danielsrag\\.venv\\lib\\site-packages (from -r requirements.txt (line 11)) (0.44.1)\n",
      "Requirement already satisfied: jupyter in c:\\automatization\\danielsrag\\.venv\\lib\\site-packages (from -r requirements.txt (line 12)) (1.1.1)\n",
      "Requirement already satisfied: wheel in c:\\automatization\\danielsrag\\.venv\\lib\\site-packages (from -r requirements.txt (line 13)) (0.44.0)\n",
      "Requirement already satisfied: PyMuPDFb==1.23.22 in c:\\automatization\\danielsrag\\.venv\\lib\\site-packages (from PyMuPDF==1.23.26->-r requirements.txt (line 1)) (1.23.22)\n",
      "Requirement already satisfied: contourpy>=1.0.1 in c:\\automatization\\danielsrag\\.venv\\lib\\site-packages (from matplotlib==3.8.3->-r requirements.txt (line 2)) (1.3.0)\n",
      "Requirement already satisfied: cycler>=0.10 in c:\\automatization\\danielsrag\\.venv\\lib\\site-packages (from matplotlib==3.8.3->-r requirements.txt (line 2)) (0.12.1)\n",
      "Requirement already satisfied: fonttools>=4.22.0 in c:\\automatization\\danielsrag\\.venv\\lib\\site-packages (from matplotlib==3.8.3->-r requirements.txt (line 2)) (4.54.1)\n",
      "Requirement already satisfied: kiwisolver>=1.3.1 in c:\\automatization\\danielsrag\\.venv\\lib\\site-packages (from matplotlib==3.8.3->-r requirements.txt (line 2)) (1.4.7)\n",
      "Requirement already satisfied: packaging>=20.0 in c:\\automatization\\danielsrag\\.venv\\lib\\site-packages (from matplotlib==3.8.3->-r requirements.txt (line 2)) (24.1)\n",
      "Requirement already satisfied: pillow>=8 in c:\\automatization\\danielsrag\\.venv\\lib\\site-packages (from matplotlib==3.8.3->-r requirements.txt (line 2)) (11.0.0)\n",
      "Requirement already satisfied: pyparsing>=2.3.1 in c:\\automatization\\danielsrag\\.venv\\lib\\site-packages (from matplotlib==3.8.3->-r requirements.txt (line 2)) (3.2.0)\n",
      "Requirement already satisfied: python-dateutil>=2.7 in c:\\automatization\\danielsrag\\.venv\\lib\\site-packages (from matplotlib==3.8.3->-r requirements.txt (line 2)) (2.9.0.post0)\n",
      "Requirement already satisfied: pytz>=2020.1 in c:\\automatization\\danielsrag\\.venv\\lib\\site-packages (from pandas==2.2.1->-r requirements.txt (line 4)) (2024.2)\n",
      "Requirement already satisfied: tzdata>=2022.7 in c:\\automatization\\danielsrag\\.venv\\lib\\site-packages (from pandas==2.2.1->-r requirements.txt (line 4)) (2024.2)\n",
      "Requirement already satisfied: charset-normalizer<4,>=2 in c:\\automatization\\danielsrag\\.venv\\lib\\site-packages (from Requests==2.31.0->-r requirements.txt (line 5)) (3.4.0)\n",
      "Requirement already satisfied: idna<4,>=2.5 in c:\\automatization\\danielsrag\\.venv\\lib\\site-packages (from Requests==2.31.0->-r requirements.txt (line 5)) (3.10)\n",
      "Requirement already satisfied: urllib3<3,>=1.21.1 in c:\\automatization\\danielsrag\\.venv\\lib\\site-packages (from Requests==2.31.0->-r requirements.txt (line 5)) (2.2.3)\n",
      "Requirement already satisfied: certifi>=2017.4.17 in c:\\automatization\\danielsrag\\.venv\\lib\\site-packages (from Requests==2.31.0->-r requirements.txt (line 5)) (2024.8.30)\n",
      "Requirement already satisfied: torch>=1.11.0 in c:\\automatization\\danielsrag\\.venv\\lib\\site-packages (from sentence_transformers==2.5.1->-r requirements.txt (line 6)) (2.5.1+cu121)\n",
      "Requirement already satisfied: scikit-learn in c:\\automatization\\danielsrag\\.venv\\lib\\site-packages (from sentence_transformers==2.5.1->-r requirements.txt (line 6)) (1.5.2)\n",
      "Requirement already satisfied: scipy in c:\\automatization\\danielsrag\\.venv\\lib\\site-packages (from sentence_transformers==2.5.1->-r requirements.txt (line 6)) (1.14.1)\n",
      "Requirement already satisfied: huggingface-hub>=0.15.1 in c:\\automatization\\danielsrag\\.venv\\lib\\site-packages (from sentence_transformers==2.5.1->-r requirements.txt (line 6)) (0.26.2)\n",
      "Requirement already satisfied: colorama in c:\\automatization\\danielsrag\\.venv\\lib\\site-packages (from tqdm==4.66.2->-r requirements.txt (line 8)) (0.4.6)\n",
      "Requirement already satisfied: filelock in c:\\automatization\\danielsrag\\.venv\\lib\\site-packages (from transformers==4.38.2->-r requirements.txt (line 9)) (3.16.1)\n",
      "Requirement already satisfied: pyyaml>=5.1 in c:\\automatization\\danielsrag\\.venv\\lib\\site-packages (from transformers==4.38.2->-r requirements.txt (line 9)) (6.0.2)\n",
      "Requirement already satisfied: regex!=2019.12.17 in c:\\automatization\\danielsrag\\.venv\\lib\\site-packages (from transformers==4.38.2->-r requirements.txt (line 9)) (2024.11.6)\n",
      "Requirement already satisfied: tokenizers<0.19,>=0.14 in c:\\automatization\\danielsrag\\.venv\\lib\\site-packages (from transformers==4.38.2->-r requirements.txt (line 9)) (0.15.2)\n",
      "Requirement already satisfied: safetensors>=0.4.1 in c:\\automatization\\danielsrag\\.venv\\lib\\site-packages (from transformers==4.38.2->-r requirements.txt (line 9)) (0.4.5)\n",
      "Requirement already satisfied: spacy-legacy<3.1.0,>=3.0.11 in c:\\automatization\\danielsrag\\.venv\\lib\\site-packages (from spacy->-r requirements.txt (line 7)) (3.0.12)\n",
      "Requirement already satisfied: spacy-loggers<2.0.0,>=1.0.0 in c:\\automatization\\danielsrag\\.venv\\lib\\site-packages (from spacy->-r requirements.txt (line 7)) (1.0.5)\n",
      "Requirement already satisfied: murmurhash<1.1.0,>=0.28.0 in c:\\automatization\\danielsrag\\.venv\\lib\\site-packages (from spacy->-r requirements.txt (line 7)) (1.0.10)\n",
      "Requirement already satisfied: cymem<2.1.0,>=2.0.2 in c:\\automatization\\danielsrag\\.venv\\lib\\site-packages (from spacy->-r requirements.txt (line 7)) (2.0.8)\n",
      "Requirement already satisfied: preshed<3.1.0,>=3.0.2 in c:\\automatization\\danielsrag\\.venv\\lib\\site-packages (from spacy->-r requirements.txt (line 7)) (3.0.9)\n",
      "Requirement already satisfied: thinc<8.3.0,>=8.2.2 in c:\\automatization\\danielsrag\\.venv\\lib\\site-packages (from spacy->-r requirements.txt (line 7)) (8.2.5)\n",
      "Requirement already satisfied: wasabi<1.2.0,>=0.9.1 in c:\\automatization\\danielsrag\\.venv\\lib\\site-packages (from spacy->-r requirements.txt (line 7)) (1.1.3)\n",
      "Requirement already satisfied: srsly<3.0.0,>=2.4.3 in c:\\automatization\\danielsrag\\.venv\\lib\\site-packages (from spacy->-r requirements.txt (line 7)) (2.4.8)\n",
      "Requirement already satisfied: catalogue<2.1.0,>=2.0.6 in c:\\automatization\\danielsrag\\.venv\\lib\\site-packages (from spacy->-r requirements.txt (line 7)) (2.0.10)\n",
      "Requirement already satisfied: weasel<0.5.0,>=0.1.0 in c:\\automatization\\danielsrag\\.venv\\lib\\site-packages (from spacy->-r requirements.txt (line 7)) (0.4.1)\n",
      "Requirement already satisfied: typer<1.0.0,>=0.3.0 in c:\\automatization\\danielsrag\\.venv\\lib\\site-packages (from spacy->-r requirements.txt (line 7)) (0.13.0)\n",
      "Requirement already satisfied: pydantic!=1.8,!=1.8.1,<3.0.0,>=1.7.4 in c:\\automatization\\danielsrag\\.venv\\lib\\site-packages (from spacy->-r requirements.txt (line 7)) (2.9.2)\n",
      "Requirement already satisfied: jinja2 in c:\\automatization\\danielsrag\\.venv\\lib\\site-packages (from spacy->-r requirements.txt (line 7)) (3.1.4)\n",
      "Requirement already satisfied: setuptools in c:\\automatization\\danielsrag\\.venv\\lib\\site-packages (from spacy->-r requirements.txt (line 7)) (65.5.0)\n",
      "Requirement already satisfied: langcodes<4.0.0,>=3.2.0 in c:\\automatization\\danielsrag\\.venv\\lib\\site-packages (from spacy->-r requirements.txt (line 7)) (3.4.1)\n",
      "Requirement already satisfied: psutil in c:\\automatization\\danielsrag\\.venv\\lib\\site-packages (from accelerate->-r requirements.txt (line 10)) (6.1.0)\n",
      "Requirement already satisfied: notebook in c:\\automatization\\danielsrag\\.venv\\lib\\site-packages (from jupyter->-r requirements.txt (line 12)) (7.2.2)\n",
      "Requirement already satisfied: jupyter-console in c:\\automatization\\danielsrag\\.venv\\lib\\site-packages (from jupyter->-r requirements.txt (line 12)) (6.6.3)\n",
      "Requirement already satisfied: nbconvert in c:\\automatization\\danielsrag\\.venv\\lib\\site-packages (from jupyter->-r requirements.txt (line 12)) (7.16.4)\n",
      "Requirement already satisfied: ipykernel in c:\\automatization\\danielsrag\\.venv\\lib\\site-packages (from jupyter->-r requirements.txt (line 12)) (6.29.5)\n",
      "Requirement already satisfied: ipywidgets in c:\\automatization\\danielsrag\\.venv\\lib\\site-packages (from jupyter->-r requirements.txt (line 12)) (8.1.5)\n",
      "Requirement already satisfied: jupyterlab in c:\\automatization\\danielsrag\\.venv\\lib\\site-packages (from jupyter->-r requirements.txt (line 12)) (4.2.5)\n",
      "Requirement already satisfied: fsspec>=2023.5.0 in c:\\automatization\\danielsrag\\.venv\\lib\\site-packages (from huggingface-hub>=0.15.1->sentence_transformers==2.5.1->-r requirements.txt (line 6)) (2024.10.0)\n",
      "Requirement already satisfied: typing-extensions>=3.7.4.3 in c:\\automatization\\danielsrag\\.venv\\lib\\site-packages (from huggingface-hub>=0.15.1->sentence_transformers==2.5.1->-r requirements.txt (line 6)) (4.12.2)\n",
      "Requirement already satisfied: language-data>=1.2 in c:\\automatization\\danielsrag\\.venv\\lib\\site-packages (from langcodes<4.0.0,>=3.2.0->spacy->-r requirements.txt (line 7)) (1.2.0)\n",
      "Requirement already satisfied: annotated-types>=0.6.0 in c:\\automatization\\danielsrag\\.venv\\lib\\site-packages (from pydantic!=1.8,!=1.8.1,<3.0.0,>=1.7.4->spacy->-r requirements.txt (line 7)) (0.7.0)\n",
      "Requirement already satisfied: pydantic-core==2.23.4 in c:\\automatization\\danielsrag\\.venv\\lib\\site-packages (from pydantic!=1.8,!=1.8.1,<3.0.0,>=1.7.4->spacy->-r requirements.txt (line 7)) (2.23.4)\n",
      "Requirement already satisfied: six>=1.5 in c:\\automatization\\danielsrag\\.venv\\lib\\site-packages (from python-dateutil>=2.7->matplotlib==3.8.3->-r requirements.txt (line 2)) (1.16.0)\n",
      "Requirement already satisfied: blis<0.8.0,>=0.7.8 in c:\\automatization\\danielsrag\\.venv\\lib\\site-packages (from thinc<8.3.0,>=8.2.2->spacy->-r requirements.txt (line 7)) (0.7.11)\n",
      "Requirement already satisfied: confection<1.0.0,>=0.0.1 in c:\\automatization\\danielsrag\\.venv\\lib\\site-packages (from thinc<8.3.0,>=8.2.2->spacy->-r requirements.txt (line 7)) (0.1.5)\n",
      "Requirement already satisfied: networkx in c:\\automatization\\danielsrag\\.venv\\lib\\site-packages (from torch>=1.11.0->sentence_transformers==2.5.1->-r requirements.txt (line 6)) (3.4.2)\n",
      "Requirement already satisfied: sympy==1.13.1 in c:\\automatization\\danielsrag\\.venv\\lib\\site-packages (from torch>=1.11.0->sentence_transformers==2.5.1->-r requirements.txt (line 6)) (1.13.1)\n",
      "Requirement already satisfied: mpmath<1.4,>=1.1.0 in c:\\automatization\\danielsrag\\.venv\\lib\\site-packages (from sympy==1.13.1->torch>=1.11.0->sentence_transformers==2.5.1->-r requirements.txt (line 6)) (1.3.0)\n",
      "Requirement already satisfied: click>=8.0.0 in c:\\automatization\\danielsrag\\.venv\\lib\\site-packages (from typer<1.0.0,>=0.3.0->spacy->-r requirements.txt (line 7)) (8.1.7)\n",
      "Requirement already satisfied: shellingham>=1.3.0 in c:\\automatization\\danielsrag\\.venv\\lib\\site-packages (from typer<1.0.0,>=0.3.0->spacy->-r requirements.txt (line 7)) (1.5.4)\n",
      "Requirement already satisfied: rich>=10.11.0 in c:\\automatization\\danielsrag\\.venv\\lib\\site-packages (from typer<1.0.0,>=0.3.0->spacy->-r requirements.txt (line 7)) (13.9.4)\n",
      "Requirement already satisfied: cloudpathlib<1.0.0,>=0.7.0 in c:\\automatization\\danielsrag\\.venv\\lib\\site-packages (from weasel<0.5.0,>=0.1.0->spacy->-r requirements.txt (line 7)) (0.20.0)\n",
      "Requirement already satisfied: smart-open<8.0.0,>=5.2.1 in c:\\automatization\\danielsrag\\.venv\\lib\\site-packages (from weasel<0.5.0,>=0.1.0->spacy->-r requirements.txt (line 7)) (7.0.5)\n",
      "Requirement already satisfied: comm>=0.1.1 in c:\\automatization\\danielsrag\\.venv\\lib\\site-packages (from ipykernel->jupyter->-r requirements.txt (line 12)) (0.2.2)\n",
      "Requirement already satisfied: debugpy>=1.6.5 in c:\\automatization\\danielsrag\\.venv\\lib\\site-packages (from ipykernel->jupyter->-r requirements.txt (line 12)) (1.8.8)\n",
      "Requirement already satisfied: ipython>=7.23.1 in c:\\automatization\\danielsrag\\.venv\\lib\\site-packages (from ipykernel->jupyter->-r requirements.txt (line 12)) (8.29.0)\n",
      "Requirement already satisfied: jupyter-client>=6.1.12 in c:\\automatization\\danielsrag\\.venv\\lib\\site-packages (from ipykernel->jupyter->-r requirements.txt (line 12)) (8.6.3)\n",
      "Requirement already satisfied: jupyter-core!=5.0.*,>=4.12 in c:\\automatization\\danielsrag\\.venv\\lib\\site-packages (from ipykernel->jupyter->-r requirements.txt (line 12)) (5.7.2)\n",
      "Requirement already satisfied: matplotlib-inline>=0.1 in c:\\automatization\\danielsrag\\.venv\\lib\\site-packages (from ipykernel->jupyter->-r requirements.txt (line 12)) (0.1.7)\n",
      "Requirement already satisfied: nest-asyncio in c:\\automatization\\danielsrag\\.venv\\lib\\site-packages (from ipykernel->jupyter->-r requirements.txt (line 12)) (1.6.0)\n",
      "Requirement already satisfied: pyzmq>=24 in c:\\automatization\\danielsrag\\.venv\\lib\\site-packages (from ipykernel->jupyter->-r requirements.txt (line 12)) (26.2.0)\n",
      "Requirement already satisfied: tornado>=6.1 in c:\\automatization\\danielsrag\\.venv\\lib\\site-packages (from ipykernel->jupyter->-r requirements.txt (line 12)) (6.4.1)\n",
      "Requirement already satisfied: traitlets>=5.4.0 in c:\\automatization\\danielsrag\\.venv\\lib\\site-packages (from ipykernel->jupyter->-r requirements.txt (line 12)) (5.14.3)\n",
      "Requirement already satisfied: widgetsnbextension~=4.0.12 in c:\\automatization\\danielsrag\\.venv\\lib\\site-packages (from ipywidgets->jupyter->-r requirements.txt (line 12)) (4.0.13)\n",
      "Requirement already satisfied: jupyterlab-widgets~=3.0.12 in c:\\automatization\\danielsrag\\.venv\\lib\\site-packages (from ipywidgets->jupyter->-r requirements.txt (line 12)) (3.0.13)\n",
      "Requirement already satisfied: MarkupSafe>=2.0 in c:\\automatization\\danielsrag\\.venv\\lib\\site-packages (from jinja2->spacy->-r requirements.txt (line 7)) (3.0.2)\n",
      "Requirement already satisfied: prompt-toolkit>=3.0.30 in c:\\automatization\\danielsrag\\.venv\\lib\\site-packages (from jupyter-console->jupyter->-r requirements.txt (line 12)) (3.0.48)\n",
      "Requirement already satisfied: pygments in c:\\automatization\\danielsrag\\.venv\\lib\\site-packages (from jupyter-console->jupyter->-r requirements.txt (line 12)) (2.18.0)\n",
      "Requirement already satisfied: async-lru>=1.0.0 in c:\\automatization\\danielsrag\\.venv\\lib\\site-packages (from jupyterlab->jupyter->-r requirements.txt (line 12)) (2.0.4)\n",
      "Requirement already satisfied: httpx>=0.25.0 in c:\\automatization\\danielsrag\\.venv\\lib\\site-packages (from jupyterlab->jupyter->-r requirements.txt (line 12)) (0.27.2)\n",
      "Requirement already satisfied: jupyter-lsp>=2.0.0 in c:\\automatization\\danielsrag\\.venv\\lib\\site-packages (from jupyterlab->jupyter->-r requirements.txt (line 12)) (2.2.5)\n",
      "Requirement already satisfied: jupyter-server<3,>=2.4.0 in c:\\automatization\\danielsrag\\.venv\\lib\\site-packages (from jupyterlab->jupyter->-r requirements.txt (line 12)) (2.14.2)\n",
      "Requirement already satisfied: jupyterlab-server<3,>=2.27.1 in c:\\automatization\\danielsrag\\.venv\\lib\\site-packages (from jupyterlab->jupyter->-r requirements.txt (line 12)) (2.27.3)\n",
      "Requirement already satisfied: notebook-shim>=0.2 in c:\\automatization\\danielsrag\\.venv\\lib\\site-packages (from jupyterlab->jupyter->-r requirements.txt (line 12)) (0.2.4)\n",
      "Requirement already satisfied: beautifulsoup4 in c:\\automatization\\danielsrag\\.venv\\lib\\site-packages (from nbconvert->jupyter->-r requirements.txt (line 12)) (4.12.3)\n",
      "Requirement already satisfied: bleach!=5.0.0 in c:\\automatization\\danielsrag\\.venv\\lib\\site-packages (from nbconvert->jupyter->-r requirements.txt (line 12)) (6.2.0)\n",
      "Requirement already satisfied: defusedxml in c:\\automatization\\danielsrag\\.venv\\lib\\site-packages (from nbconvert->jupyter->-r requirements.txt (line 12)) (0.7.1)\n",
      "Requirement already satisfied: jupyterlab-pygments in c:\\automatization\\danielsrag\\.venv\\lib\\site-packages (from nbconvert->jupyter->-r requirements.txt (line 12)) (0.3.0)\n",
      "Requirement already satisfied: mistune<4,>=2.0.3 in c:\\automatization\\danielsrag\\.venv\\lib\\site-packages (from nbconvert->jupyter->-r requirements.txt (line 12)) (3.0.2)\n",
      "Requirement already satisfied: nbclient>=0.5.0 in c:\\automatization\\danielsrag\\.venv\\lib\\site-packages (from nbconvert->jupyter->-r requirements.txt (line 12)) (0.10.0)\n",
      "Requirement already satisfied: nbformat>=5.7 in c:\\automatization\\danielsrag\\.venv\\lib\\site-packages (from nbconvert->jupyter->-r requirements.txt (line 12)) (5.10.4)\n",
      "Requirement already satisfied: pandocfilters>=1.4.1 in c:\\automatization\\danielsrag\\.venv\\lib\\site-packages (from nbconvert->jupyter->-r requirements.txt (line 12)) (1.5.1)\n",
      "Requirement already satisfied: tinycss2 in c:\\automatization\\danielsrag\\.venv\\lib\\site-packages (from nbconvert->jupyter->-r requirements.txt (line 12)) (1.4.0)\n",
      "Requirement already satisfied: joblib>=1.2.0 in c:\\automatization\\danielsrag\\.venv\\lib\\site-packages (from scikit-learn->sentence_transformers==2.5.1->-r requirements.txt (line 6)) (1.4.2)\n",
      "Requirement already satisfied: threadpoolctl>=3.1.0 in c:\\automatization\\danielsrag\\.venv\\lib\\site-packages (from scikit-learn->sentence_transformers==2.5.1->-r requirements.txt (line 6)) (3.5.0)\n",
      "Requirement already satisfied: webencodings in c:\\automatization\\danielsrag\\.venv\\lib\\site-packages (from bleach!=5.0.0->nbconvert->jupyter->-r requirements.txt (line 12)) (0.5.1)\n",
      "Requirement already satisfied: anyio in c:\\automatization\\danielsrag\\.venv\\lib\\site-packages (from httpx>=0.25.0->jupyterlab->jupyter->-r requirements.txt (line 12)) (4.6.2.post1)\n",
      "Requirement already satisfied: httpcore==1.* in c:\\automatization\\danielsrag\\.venv\\lib\\site-packages (from httpx>=0.25.0->jupyterlab->jupyter->-r requirements.txt (line 12)) (1.0.6)\n",
      "Requirement already satisfied: sniffio in c:\\automatization\\danielsrag\\.venv\\lib\\site-packages (from httpx>=0.25.0->jupyterlab->jupyter->-r requirements.txt (line 12)) (1.3.1)\n",
      "Requirement already satisfied: h11<0.15,>=0.13 in c:\\automatization\\danielsrag\\.venv\\lib\\site-packages (from httpcore==1.*->httpx>=0.25.0->jupyterlab->jupyter->-r requirements.txt (line 12)) (0.14.0)\n",
      "Requirement already satisfied: decorator in c:\\automatization\\danielsrag\\.venv\\lib\\site-packages (from ipython>=7.23.1->ipykernel->jupyter->-r requirements.txt (line 12)) (5.1.1)\n",
      "Requirement already satisfied: jedi>=0.16 in c:\\automatization\\danielsrag\\.venv\\lib\\site-packages (from ipython>=7.23.1->ipykernel->jupyter->-r requirements.txt (line 12)) (0.19.1)\n",
      "Requirement already satisfied: stack-data in c:\\automatization\\danielsrag\\.venv\\lib\\site-packages (from ipython>=7.23.1->ipykernel->jupyter->-r requirements.txt (line 12)) (0.6.3)\n",
      "Requirement already satisfied: platformdirs>=2.5 in c:\\automatization\\danielsrag\\.venv\\lib\\site-packages (from jupyter-core!=5.0.*,>=4.12->ipykernel->jupyter->-r requirements.txt (line 12)) (4.3.6)\n",
      "Requirement already satisfied: pywin32>=300 in c:\\automatization\\danielsrag\\.venv\\lib\\site-packages (from jupyter-core!=5.0.*,>=4.12->ipykernel->jupyter->-r requirements.txt (line 12)) (308)\n",
      "Requirement already satisfied: argon2-cffi>=21.1 in c:\\automatization\\danielsrag\\.venv\\lib\\site-packages (from jupyter-server<3,>=2.4.0->jupyterlab->jupyter->-r requirements.txt (line 12)) (23.1.0)\n",
      "Requirement already satisfied: jupyter-events>=0.9.0 in c:\\automatization\\danielsrag\\.venv\\lib\\site-packages (from jupyter-server<3,>=2.4.0->jupyterlab->jupyter->-r requirements.txt (line 12)) (0.10.0)\n",
      "Requirement already satisfied: jupyter-server-terminals>=0.4.4 in c:\\automatization\\danielsrag\\.venv\\lib\\site-packages (from jupyter-server<3,>=2.4.0->jupyterlab->jupyter->-r requirements.txt (line 12)) (0.5.3)\n",
      "Requirement already satisfied: overrides>=5.0 in c:\\automatization\\danielsrag\\.venv\\lib\\site-packages (from jupyter-server<3,>=2.4.0->jupyterlab->jupyter->-r requirements.txt (line 12)) (7.7.0)\n",
      "Requirement already satisfied: prometheus-client>=0.9 in c:\\automatization\\danielsrag\\.venv\\lib\\site-packages (from jupyter-server<3,>=2.4.0->jupyterlab->jupyter->-r requirements.txt (line 12)) (0.21.0)\n",
      "Requirement already satisfied: pywinpty>=2.0.1 in c:\\automatization\\danielsrag\\.venv\\lib\\site-packages (from jupyter-server<3,>=2.4.0->jupyterlab->jupyter->-r requirements.txt (line 12)) (2.0.14)\n",
      "Requirement already satisfied: send2trash>=1.8.2 in c:\\automatization\\danielsrag\\.venv\\lib\\site-packages (from jupyter-server<3,>=2.4.0->jupyterlab->jupyter->-r requirements.txt (line 12)) (1.8.3)\n",
      "Requirement already satisfied: terminado>=0.8.3 in c:\\automatization\\danielsrag\\.venv\\lib\\site-packages (from jupyter-server<3,>=2.4.0->jupyterlab->jupyter->-r requirements.txt (line 12)) (0.18.1)\n",
      "Requirement already satisfied: websocket-client>=1.7 in c:\\automatization\\danielsrag\\.venv\\lib\\site-packages (from jupyter-server<3,>=2.4.0->jupyterlab->jupyter->-r requirements.txt (line 12)) (1.8.0)\n",
      "Requirement already satisfied: babel>=2.10 in c:\\automatization\\danielsrag\\.venv\\lib\\site-packages (from jupyterlab-server<3,>=2.27.1->jupyterlab->jupyter->-r requirements.txt (line 12)) (2.16.0)\n",
      "Requirement already satisfied: json5>=0.9.0 in c:\\automatization\\danielsrag\\.venv\\lib\\site-packages (from jupyterlab-server<3,>=2.27.1->jupyterlab->jupyter->-r requirements.txt (line 12)) (0.9.25)\n",
      "Requirement already satisfied: jsonschema>=4.18.0 in c:\\automatization\\danielsrag\\.venv\\lib\\site-packages (from jupyterlab-server<3,>=2.27.1->jupyterlab->jupyter->-r requirements.txt (line 12)) (4.23.0)\n",
      "Requirement already satisfied: marisa-trie>=0.7.7 in c:\\automatization\\danielsrag\\.venv\\lib\\site-packages (from language-data>=1.2->langcodes<4.0.0,>=3.2.0->spacy->-r requirements.txt (line 7)) (1.2.1)\n",
      "Requirement already satisfied: fastjsonschema>=2.15 in c:\\automatization\\danielsrag\\.venv\\lib\\site-packages (from nbformat>=5.7->nbconvert->jupyter->-r requirements.txt (line 12)) (2.20.0)\n",
      "Requirement already satisfied: wcwidth in c:\\automatization\\danielsrag\\.venv\\lib\\site-packages (from prompt-toolkit>=3.0.30->jupyter-console->jupyter->-r requirements.txt (line 12)) (0.2.13)\n",
      "Requirement already satisfied: markdown-it-py>=2.2.0 in c:\\automatization\\danielsrag\\.venv\\lib\\site-packages (from rich>=10.11.0->typer<1.0.0,>=0.3.0->spacy->-r requirements.txt (line 7)) (3.0.0)\n",
      "Requirement already satisfied: wrapt in c:\\automatization\\danielsrag\\.venv\\lib\\site-packages (from smart-open<8.0.0,>=5.2.1->weasel<0.5.0,>=0.1.0->spacy->-r requirements.txt (line 7)) (1.16.0)\n",
      "Requirement already satisfied: soupsieve>1.2 in c:\\automatization\\danielsrag\\.venv\\lib\\site-packages (from beautifulsoup4->nbconvert->jupyter->-r requirements.txt (line 12)) (2.6)\n",
      "Requirement already satisfied: argon2-cffi-bindings in c:\\automatization\\danielsrag\\.venv\\lib\\site-packages (from argon2-cffi>=21.1->jupyter-server<3,>=2.4.0->jupyterlab->jupyter->-r requirements.txt (line 12)) (21.2.0)\n",
      "Requirement already satisfied: parso<0.9.0,>=0.8.3 in c:\\automatization\\danielsrag\\.venv\\lib\\site-packages (from jedi>=0.16->ipython>=7.23.1->ipykernel->jupyter->-r requirements.txt (line 12)) (0.8.4)\n",
      "Requirement already satisfied: attrs>=22.2.0 in c:\\automatization\\danielsrag\\.venv\\lib\\site-packages (from jsonschema>=4.18.0->jupyterlab-server<3,>=2.27.1->jupyterlab->jupyter->-r requirements.txt (line 12)) (24.2.0)\n",
      "Requirement already satisfied: jsonschema-specifications>=2023.03.6 in c:\\automatization\\danielsrag\\.venv\\lib\\site-packages (from jsonschema>=4.18.0->jupyterlab-server<3,>=2.27.1->jupyterlab->jupyter->-r requirements.txt (line 12)) (2024.10.1)\n",
      "Requirement already satisfied: referencing>=0.28.4 in c:\\automatization\\danielsrag\\.venv\\lib\\site-packages (from jsonschema>=4.18.0->jupyterlab-server<3,>=2.27.1->jupyterlab->jupyter->-r requirements.txt (line 12)) (0.35.1)\n",
      "Requirement already satisfied: rpds-py>=0.7.1 in c:\\automatization\\danielsrag\\.venv\\lib\\site-packages (from jsonschema>=4.18.0->jupyterlab-server<3,>=2.27.1->jupyterlab->jupyter->-r requirements.txt (line 12)) (0.21.0)\n",
      "Requirement already satisfied: python-json-logger>=2.0.4 in c:\\automatization\\danielsrag\\.venv\\lib\\site-packages (from jupyter-events>=0.9.0->jupyter-server<3,>=2.4.0->jupyterlab->jupyter->-r requirements.txt (line 12)) (2.0.7)\n",
      "Requirement already satisfied: rfc3339-validator in c:\\automatization\\danielsrag\\.venv\\lib\\site-packages (from jupyter-events>=0.9.0->jupyter-server<3,>=2.4.0->jupyterlab->jupyter->-r requirements.txt (line 12)) (0.1.4)\n",
      "Requirement already satisfied: rfc3986-validator>=0.1.1 in c:\\automatization\\danielsrag\\.venv\\lib\\site-packages (from jupyter-events>=0.9.0->jupyter-server<3,>=2.4.0->jupyterlab->jupyter->-r requirements.txt (line 12)) (0.1.1)\n",
      "Requirement already satisfied: mdurl~=0.1 in c:\\automatization\\danielsrag\\.venv\\lib\\site-packages (from markdown-it-py>=2.2.0->rich>=10.11.0->typer<1.0.0,>=0.3.0->spacy->-r requirements.txt (line 7)) (0.1.2)\n",
      "Requirement already satisfied: executing>=1.2.0 in c:\\automatization\\danielsrag\\.venv\\lib\\site-packages (from stack-data->ipython>=7.23.1->ipykernel->jupyter->-r requirements.txt (line 12)) (2.1.0)\n",
      "Requirement already satisfied: asttokens>=2.1.0 in c:\\automatization\\danielsrag\\.venv\\lib\\site-packages (from stack-data->ipython>=7.23.1->ipykernel->jupyter->-r requirements.txt (line 12)) (2.4.1)\n",
      "Requirement already satisfied: pure-eval in c:\\automatization\\danielsrag\\.venv\\lib\\site-packages (from stack-data->ipython>=7.23.1->ipykernel->jupyter->-r requirements.txt (line 12)) (0.2.3)\n",
      "Requirement already satisfied: fqdn in c:\\automatization\\danielsrag\\.venv\\lib\\site-packages (from jsonschema[format-nongpl]>=4.18.0->jupyter-events>=0.9.0->jupyter-server<3,>=2.4.0->jupyterlab->jupyter->-r requirements.txt (line 12)) (1.5.1)\n",
      "Requirement already satisfied: isoduration in c:\\automatization\\danielsrag\\.venv\\lib\\site-packages (from jsonschema[format-nongpl]>=4.18.0->jupyter-events>=0.9.0->jupyter-server<3,>=2.4.0->jupyterlab->jupyter->-r requirements.txt (line 12)) (20.11.0)\n",
      "Requirement already satisfied: jsonpointer>1.13 in c:\\automatization\\danielsrag\\.venv\\lib\\site-packages (from jsonschema[format-nongpl]>=4.18.0->jupyter-events>=0.9.0->jupyter-server<3,>=2.4.0->jupyterlab->jupyter->-r requirements.txt (line 12)) (3.0.0)\n",
      "Requirement already satisfied: uri-template in c:\\automatization\\danielsrag\\.venv\\lib\\site-packages (from jsonschema[format-nongpl]>=4.18.0->jupyter-events>=0.9.0->jupyter-server<3,>=2.4.0->jupyterlab->jupyter->-r requirements.txt (line 12)) (1.3.0)\n",
      "Requirement already satisfied: webcolors>=24.6.0 in c:\\automatization\\danielsrag\\.venv\\lib\\site-packages (from jsonschema[format-nongpl]>=4.18.0->jupyter-events>=0.9.0->jupyter-server<3,>=2.4.0->jupyterlab->jupyter->-r requirements.txt (line 12)) (24.8.0)\n",
      "Requirement already satisfied: cffi>=1.0.1 in c:\\automatization\\danielsrag\\.venv\\lib\\site-packages (from argon2-cffi-bindings->argon2-cffi>=21.1->jupyter-server<3,>=2.4.0->jupyterlab->jupyter->-r requirements.txt (line 12)) (1.17.1)\n",
      "Requirement already satisfied: pycparser in c:\\automatization\\danielsrag\\.venv\\lib\\site-packages (from cffi>=1.0.1->argon2-cffi-bindings->argon2-cffi>=21.1->jupyter-server<3,>=2.4.0->jupyterlab->jupyter->-r requirements.txt (line 12)) (2.22)\n",
      "Requirement already satisfied: arrow>=0.15.0 in c:\\automatization\\danielsrag\\.venv\\lib\\site-packages (from isoduration->jsonschema[format-nongpl]>=4.18.0->jupyter-events>=0.9.0->jupyter-server<3,>=2.4.0->jupyterlab->jupyter->-r requirements.txt (line 12)) (1.3.0)\n",
      "Requirement already satisfied: types-python-dateutil>=2.8.10 in c:\\automatization\\danielsrag\\.venv\\lib\\site-packages (from arrow>=0.15.0->isoduration->jsonschema[format-nongpl]>=4.18.0->jupyter-events>=0.9.0->jupyter-server<3,>=2.4.0->jupyterlab->jupyter->-r requirements.txt (line 12)) (2.9.0.20241003)\n",
      "Note: you may need to restart the kernel to use updated packages.\n"
     ]
    }
   ],
   "source": [
    "%pip install -r requirements.txt"
   ]
  },
  {
   "cell_type": "code",
   "execution_count": 2,
   "metadata": {},
   "outputs": [
    {
     "name": "stdout",
     "output_type": "stream",
     "text": [
      "Looking in indexes: https://download.pytorch.org/whl/cu121\n",
      "Requirement already satisfied: torch in c:\\automatization\\danielsrag\\.venv\\lib\\site-packages (2.5.1+cu121)\n",
      "Requirement already satisfied: torchvision in c:\\automatization\\danielsrag\\.venv\\lib\\site-packages (0.20.1+cu121)\n",
      "Requirement already satisfied: torchaudio in c:\\automatization\\danielsrag\\.venv\\lib\\site-packages (2.5.1+cu121)\n",
      "Requirement already satisfied: filelock in c:\\automatization\\danielsrag\\.venv\\lib\\site-packages (from torch) (3.16.1)\n",
      "Requirement already satisfied: typing-extensions>=4.8.0 in c:\\automatization\\danielsrag\\.venv\\lib\\site-packages (from torch) (4.12.2)\n",
      "Requirement already satisfied: networkx in c:\\automatization\\danielsrag\\.venv\\lib\\site-packages (from torch) (3.4.2)\n",
      "Requirement already satisfied: jinja2 in c:\\automatization\\danielsrag\\.venv\\lib\\site-packages (from torch) (3.1.4)\n",
      "Requirement already satisfied: fsspec in c:\\automatization\\danielsrag\\.venv\\lib\\site-packages (from torch) (2024.10.0)\n",
      "Requirement already satisfied: sympy==1.13.1 in c:\\automatization\\danielsrag\\.venv\\lib\\site-packages (from torch) (1.13.1)\n",
      "Requirement already satisfied: mpmath<1.4,>=1.1.0 in c:\\automatization\\danielsrag\\.venv\\lib\\site-packages (from sympy==1.13.1->torch) (1.3.0)\n",
      "Requirement already satisfied: numpy in c:\\automatization\\danielsrag\\.venv\\lib\\site-packages (from torchvision) (1.26.4)\n",
      "Requirement already satisfied: pillow!=8.3.*,>=5.3.0 in c:\\automatization\\danielsrag\\.venv\\lib\\site-packages (from torchvision) (11.0.0)\n",
      "Requirement already satisfied: MarkupSafe>=2.0 in c:\\automatization\\danielsrag\\.venv\\lib\\site-packages (from jinja2->torch) (3.0.2)\n",
      "Note: you may need to restart the kernel to use updated packages.\n"
     ]
    }
   ],
   "source": [
    "%pip install -U torch torchvision torchaudio --index-url https://download.pytorch.org/whl/cu121"
   ]
  },
  {
   "cell_type": "code",
   "execution_count": 3,
   "metadata": {},
   "outputs": [
    {
     "name": "stderr",
     "output_type": "stream",
     "text": [
      "'nvidia-smi' is not recognized as an internal or external command,\n",
      "operable program or batch file.\n"
     ]
    }
   ],
   "source": [
    "!nvidia-smi"
   ]
  },
  {
   "cell_type": "markdown",
   "metadata": {},
   "source": [
    "[Info](https://whimsical.com/simple-local-rag-workflow-39kToR3yNf7E8kY4sS2tjV)"
   ]
  },
  {
   "cell_type": "code",
   "execution_count": 4,
   "metadata": {},
   "outputs": [
    {
     "name": "stdout",
     "output_type": "stream",
     "text": [
      "File exists ./data/human-nutrition-text.pdf\n"
     ]
    }
   ],
   "source": [
    "import os\n",
    "import requests\n",
    "\n",
    "dataDir = \"./data/human-nutrition-text.pdf\"\n",
    "\n",
    "if not os.path.exists(dataDir):\n",
    "    print(f\"Doesn't exist {dataDir}\")\n",
    "else:\n",
    "    print(f\"File exists {dataDir}\")\n"
   ]
  },
  {
   "cell_type": "code",
   "execution_count": 19,
   "metadata": {},
   "outputs": [],
   "source": [
    "import fitz \n",
    "from tqdm.auto import tqdm\n",
    "\n",
    "def text_formatter(text: str) -> str:\n",
    "    return text.replace('\\n', ' ').strip()\n",
    "\n",
    "\n",
    "def read_pdf(path: str) -> list[dict]:\n",
    "    doc = fitz.open(path)\n",
    "    #print(f\"Number of pages: {len(doc)}\")\n",
    "    pages_and_text = []\n",
    "    for page_number, page in tqdm(enumerate(doc)):\n",
    "        text = page.get_text()\n",
    "        text = text_formatter(text)\n",
    "        pages_and_text.append({\"page_number\":page_number,\n",
    "                               \"page_char_count\":len(text),\n",
    "                               \"page_word_count\":len(text.split(\" \")),\n",
    "                               \"page_sentence_count\":len(text.split(\". \")),\n",
    "                               \"page_token_count\":len(text) / 4,\n",
    "                               \"page_text\":text})\n",
    "    return pages_and_text"
   ]
  },
  {
   "cell_type": "code",
   "execution_count": null,
   "metadata": {},
   "outputs": [
    {
     "data": {
      "application/vnd.jupyter.widget-view+json": {
       "model_id": "68a16928406442e6950b973b36055d49",
       "version_major": 2,
       "version_minor": 0
      },
      "text/plain": [
       "0it [00:00, ?it/s]"
      ]
     },
     "metadata": {},
     "output_type": "display_data"
    },
    {
     "data": {
      "text/plain": [
       "[{'page_number': 0,\n",
       "  'page_char_count': 29,\n",
       "  'page_word_count': 4,\n",
       "  'page_sentence_count': 1,\n",
       "  'page_token_count': 7.25,\n",
       "  'page_text': 'Human Nutrition: 2020 Edition'},\n",
       " {'page_number': 1,\n",
       "  'page_char_count': 0,\n",
       "  'page_word_count': 1,\n",
       "  'page_sentence_count': 1,\n",
       "  'page_token_count': 0.0,\n",
       "  'page_text': ''},\n",
       " {'page_number': 2,\n",
       "  'page_char_count': 320,\n",
       "  'page_word_count': 54,\n",
       "  'page_sentence_count': 1,\n",
       "  'page_token_count': 80.0,\n",
       "  'page_text': 'Human Nutrition: 2020  Edition  UNIVERSITY OF HAWAI‘I AT MĀNOA  FOOD SCIENCE AND HUMAN  NUTRITION PROGRAM  ALAN TITCHENAL, SKYLAR HARA,  NOEMI ARCEO CAACBAY, WILLIAM  MEINKE-LAU, YA-YUN YANG, MARIE  KAINOA FIALKOWSKI REVILLA,  JENNIFER DRAPER, GEMADY  LANGFELDER, CHERYL GIBBY, CHYNA  NICOLE CHUN, AND ALLISON  CALABRESE'},\n",
       " {'page_number': 3,\n",
       "  'page_char_count': 212,\n",
       "  'page_word_count': 32,\n",
       "  'page_sentence_count': 1,\n",
       "  'page_token_count': 53.0,\n",
       "  'page_text': 'Human Nutrition: 2020 Edition by University of Hawai‘i at Mānoa Food Science and  Human Nutrition Program is licensed under a Creative Commons Attribution 4.0  International License, except where otherwise noted.'}]"
      ]
     },
     "execution_count": 21,
     "metadata": {},
     "output_type": "execute_result"
    }
   ],
   "source": [
    "pages_and_text = read_pdf(path = dataDir)\n"
   ]
  },
  {
   "cell_type": "code",
   "execution_count": 22,
   "metadata": {},
   "outputs": [
    {
     "data": {
      "text/plain": [
       "[{'page_number': 0,\n",
       "  'page_char_count': 29,\n",
       "  'page_word_count': 4,\n",
       "  'page_sentence_count': 1,\n",
       "  'page_token_count': 7.25,\n",
       "  'page_text': 'Human Nutrition: 2020 Edition'},\n",
       " {'page_number': 1,\n",
       "  'page_char_count': 0,\n",
       "  'page_word_count': 1,\n",
       "  'page_sentence_count': 1,\n",
       "  'page_token_count': 0.0,\n",
       "  'page_text': ''}]"
      ]
     },
     "execution_count": 22,
     "metadata": {},
     "output_type": "execute_result"
    }
   ],
   "source": [
    "\n",
    "pages_and_text[:2]"
   ]
  },
  {
   "cell_type": "code",
   "execution_count": 23,
   "metadata": {},
   "outputs": [
    {
     "data": {
      "text/plain": [
       "[{'page_number': 808,\n",
       "  'page_char_count': 213,\n",
       "  'page_word_count': 36,\n",
       "  'page_sentence_count': 2,\n",
       "  'page_token_count': 53.25,\n",
       "  'page_text': 'An interactive or media element has been  excluded from this version of the text. You can  view it online here:  http://pressbooks.oer.hawaii.edu/ humannutrition2/?p=432    Pacific Based Dietary Guidelines  |  767'},\n",
       " {'page_number': 644,\n",
       "  'page_char_count': 1589,\n",
       "  'page_word_count': 234,\n",
       "  'page_sentence_count': 28,\n",
       "  'page_token_count': 397.25,\n",
       "  'page_text': 'Shi, J., Arunasalam, K., Yeung, D., Kakuda, Y., Mittal, G., & Jiang,  Y. (2004). Saponins from Edible Legumes: Chemistry, Processing,  and Health Benefits. Journal of Medicinal Food, 7(1), 67–78.  https://doi.org/10.1089/109662004322984734  Thompson, G. R., & Grundy, S. M. (2005). History and Development  of Plant Sterol and Stanol Esters for Cholesterol-Lowering  Purposes. The American Journal of Cardiology, 96(1, Supplement),  3–9. https://doi.org/10.1016/j.amjcard.2005.03.013  Xu, D.-P., Li, Y., Meng, X., Zhou, T., Zhou, Y., Zheng, J., Zhang, J.- J., & Li, H.-B. (2017). Natural Antioxidants in Foods and Medicinal  Plants: Extraction, Assessment and Resources. International Journal  of Molecular Sciences, 18(1). https://doi.org/10.3390/ijms18010096  Yousuf, B., Gul, K., Wani, A. A., & Singh, P. (2016). Health Benefits  of Anthocyanins and Their Encapsulation for Potential Use in Food  Systems: A Review. Critical Reviews in Food Science and Nutrition,  56(13), 2223–2230. https://doi.org/10.1080/10408398.2013.805316  Zamora-Ros, R., Rothwell, J. A., Scalbert, A., Knaze, V., Romieu, I.,  Slimani, N., Fagherazzi, G., Perquier, F., Touillaud, M., Molina- Montes, E., Huerta, J. M., Barricarte, A., Amiano, P., Menéndez, V.,  Tumino, R., de Magistris, M. S., Palli, D., Ricceri, F., Sieri, S., …  González, C. A. (2013). Dietary intakes and food sources of phenolic  acids in the European Prospective Investigation into Cancer and  Nutrition (EPIC) study. The British Journal of Nutrition, 110(8),  1500–1511. https://doi.org/10.1017/S0007114513000688  Phytochemicals  |  603'}]"
      ]
     },
     "execution_count": 23,
     "metadata": {},
     "output_type": "execute_result"
    }
   ],
   "source": [
    "import random\n",
    "\n",
    "random.sample(pages_and_text, 2)"
   ]
  },
  {
   "cell_type": "code",
   "execution_count": 24,
   "metadata": {},
   "outputs": [
    {
     "data": {
      "text/html": [
       "<div>\n",
       "<style scoped>\n",
       "    .dataframe tbody tr th:only-of-type {\n",
       "        vertical-align: middle;\n",
       "    }\n",
       "\n",
       "    .dataframe tbody tr th {\n",
       "        vertical-align: top;\n",
       "    }\n",
       "\n",
       "    .dataframe thead th {\n",
       "        text-align: right;\n",
       "    }\n",
       "</style>\n",
       "<table border=\"1\" class=\"dataframe\">\n",
       "  <thead>\n",
       "    <tr style=\"text-align: right;\">\n",
       "      <th></th>\n",
       "      <th>page_number</th>\n",
       "      <th>page_char_count</th>\n",
       "      <th>page_word_count</th>\n",
       "      <th>page_sentence_count</th>\n",
       "      <th>page_token_count</th>\n",
       "      <th>page_text</th>\n",
       "    </tr>\n",
       "  </thead>\n",
       "  <tbody>\n",
       "    <tr>\n",
       "      <th>0</th>\n",
       "      <td>0</td>\n",
       "      <td>29</td>\n",
       "      <td>4</td>\n",
       "      <td>1</td>\n",
       "      <td>7.25</td>\n",
       "      <td>Human Nutrition: 2020 Edition</td>\n",
       "    </tr>\n",
       "    <tr>\n",
       "      <th>1</th>\n",
       "      <td>1</td>\n",
       "      <td>0</td>\n",
       "      <td>1</td>\n",
       "      <td>1</td>\n",
       "      <td>0.00</td>\n",
       "      <td></td>\n",
       "    </tr>\n",
       "    <tr>\n",
       "      <th>2</th>\n",
       "      <td>2</td>\n",
       "      <td>320</td>\n",
       "      <td>54</td>\n",
       "      <td>1</td>\n",
       "      <td>80.00</td>\n",
       "      <td>Human Nutrition: 2020  Edition  UNIVERSITY OF ...</td>\n",
       "    </tr>\n",
       "    <tr>\n",
       "      <th>3</th>\n",
       "      <td>3</td>\n",
       "      <td>212</td>\n",
       "      <td>32</td>\n",
       "      <td>1</td>\n",
       "      <td>53.00</td>\n",
       "      <td>Human Nutrition: 2020 Edition by University of...</td>\n",
       "    </tr>\n",
       "    <tr>\n",
       "      <th>4</th>\n",
       "      <td>4</td>\n",
       "      <td>797</td>\n",
       "      <td>147</td>\n",
       "      <td>3</td>\n",
       "      <td>199.25</td>\n",
       "      <td>Contents  Preface  University of Hawai‘i at Mā...</td>\n",
       "    </tr>\n",
       "  </tbody>\n",
       "</table>\n",
       "</div>"
      ],
      "text/plain": [
       "   page_number  page_char_count  page_word_count  page_sentence_count  \\\n",
       "0            0               29                4                    1   \n",
       "1            1                0                1                    1   \n",
       "2            2              320               54                    1   \n",
       "3            3              212               32                    1   \n",
       "4            4              797              147                    3   \n",
       "\n",
       "   page_token_count                                          page_text  \n",
       "0              7.25                      Human Nutrition: 2020 Edition  \n",
       "1              0.00                                                     \n",
       "2             80.00  Human Nutrition: 2020  Edition  UNIVERSITY OF ...  \n",
       "3             53.00  Human Nutrition: 2020 Edition by University of...  \n",
       "4            199.25  Contents  Preface  University of Hawai‘i at Mā...  "
      ]
     },
     "execution_count": 24,
     "metadata": {},
     "output_type": "execute_result"
    }
   ],
   "source": [
    "import pandas as pd \n",
    "\n",
    "df = pd.DataFrame(pages_and_text)\n",
    "\n",
    "df.head()"
   ]
  },
  {
   "cell_type": "code",
   "execution_count": 25,
   "metadata": {},
   "outputs": [
    {
     "data": {
      "text/html": [
       "<div>\n",
       "<style scoped>\n",
       "    .dataframe tbody tr th:only-of-type {\n",
       "        vertical-align: middle;\n",
       "    }\n",
       "\n",
       "    .dataframe tbody tr th {\n",
       "        vertical-align: top;\n",
       "    }\n",
       "\n",
       "    .dataframe thead th {\n",
       "        text-align: right;\n",
       "    }\n",
       "</style>\n",
       "<table border=\"1\" class=\"dataframe\">\n",
       "  <thead>\n",
       "    <tr style=\"text-align: right;\">\n",
       "      <th></th>\n",
       "      <th>page_number</th>\n",
       "      <th>page_char_count</th>\n",
       "      <th>page_word_count</th>\n",
       "      <th>page_sentence_count</th>\n",
       "      <th>page_token_count</th>\n",
       "    </tr>\n",
       "  </thead>\n",
       "  <tbody>\n",
       "    <tr>\n",
       "      <th>count</th>\n",
       "      <td>1208.00</td>\n",
       "      <td>1208.00</td>\n",
       "      <td>1208.00</td>\n",
       "      <td>1208.00</td>\n",
       "      <td>1208.00</td>\n",
       "    </tr>\n",
       "    <tr>\n",
       "      <th>mean</th>\n",
       "      <td>603.50</td>\n",
       "      <td>1148.00</td>\n",
       "      <td>199.50</td>\n",
       "      <td>10.52</td>\n",
       "      <td>287.00</td>\n",
       "    </tr>\n",
       "    <tr>\n",
       "      <th>std</th>\n",
       "      <td>348.86</td>\n",
       "      <td>560.38</td>\n",
       "      <td>95.83</td>\n",
       "      <td>6.55</td>\n",
       "      <td>140.10</td>\n",
       "    </tr>\n",
       "    <tr>\n",
       "      <th>min</th>\n",
       "      <td>0.00</td>\n",
       "      <td>0.00</td>\n",
       "      <td>1.00</td>\n",
       "      <td>1.00</td>\n",
       "      <td>0.00</td>\n",
       "    </tr>\n",
       "    <tr>\n",
       "      <th>25%</th>\n",
       "      <td>301.75</td>\n",
       "      <td>762.00</td>\n",
       "      <td>134.00</td>\n",
       "      <td>5.00</td>\n",
       "      <td>190.50</td>\n",
       "    </tr>\n",
       "    <tr>\n",
       "      <th>50%</th>\n",
       "      <td>603.50</td>\n",
       "      <td>1231.50</td>\n",
       "      <td>216.00</td>\n",
       "      <td>10.00</td>\n",
       "      <td>307.88</td>\n",
       "    </tr>\n",
       "    <tr>\n",
       "      <th>75%</th>\n",
       "      <td>905.25</td>\n",
       "      <td>1603.50</td>\n",
       "      <td>272.00</td>\n",
       "      <td>15.00</td>\n",
       "      <td>400.88</td>\n",
       "    </tr>\n",
       "    <tr>\n",
       "      <th>max</th>\n",
       "      <td>1207.00</td>\n",
       "      <td>2308.00</td>\n",
       "      <td>430.00</td>\n",
       "      <td>39.00</td>\n",
       "      <td>577.00</td>\n",
       "    </tr>\n",
       "  </tbody>\n",
       "</table>\n",
       "</div>"
      ],
      "text/plain": [
       "       page_number  page_char_count  page_word_count  page_sentence_count  \\\n",
       "count      1208.00          1208.00          1208.00              1208.00   \n",
       "mean        603.50          1148.00           199.50                10.52   \n",
       "std         348.86           560.38            95.83                 6.55   \n",
       "min           0.00             0.00             1.00                 1.00   \n",
       "25%         301.75           762.00           134.00                 5.00   \n",
       "50%         603.50          1231.50           216.00                10.00   \n",
       "75%         905.25          1603.50           272.00                15.00   \n",
       "max        1207.00          2308.00           430.00                39.00   \n",
       "\n",
       "       page_token_count  \n",
       "count           1208.00  \n",
       "mean             287.00  \n",
       "std              140.10  \n",
       "min                0.00  \n",
       "25%              190.50  \n",
       "50%              307.88  \n",
       "75%              400.88  \n",
       "max              577.00  "
      ]
     },
     "execution_count": 25,
     "metadata": {},
     "output_type": "execute_result"
    }
   ],
   "source": [
    "df.describe().round(2)"
   ]
  },
  {
   "cell_type": "code",
   "execution_count": null,
   "metadata": {},
   "outputs": [],
   "source": [
    "# from spacy.lang.uk import Ukrainian\n",
    "from spacy.lang.en import English\n",
    "\n"
   ]
  }
 ],
 "metadata": {
  "kernelspec": {
   "display_name": ".venv",
   "language": "python",
   "name": "python3"
  },
  "language_info": {
   "codemirror_mode": {
    "name": "ipython",
    "version": 3
   },
   "file_extension": ".py",
   "mimetype": "text/x-python",
   "name": "python",
   "nbconvert_exporter": "python",
   "pygments_lexer": "ipython3",
   "version": "3.11.9"
  }
 },
 "nbformat": 4,
 "nbformat_minor": 2
}
