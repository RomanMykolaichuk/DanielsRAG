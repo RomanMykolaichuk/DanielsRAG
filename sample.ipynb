{
 "cells": [
  {
   "cell_type": "code",
   "execution_count": 1,
   "metadata": {},
   "outputs": [
    {
     "name": "stdout",
     "output_type": "stream",
     "text": [
      "Requirement already satisfied: PyMuPDF==1.23.26 in c:\\datascience\\danielsrag\\danielsrag\\.venv\\lib\\site-packages (from -r requirements.txt (line 1)) (1.23.26)Note: you may need to restart the kernel to use updated packages.\n",
      "\n",
      "Requirement already satisfied: matplotlib==3.8.3 in c:\\datascience\\danielsrag\\danielsrag\\.venv\\lib\\site-packages (from -r requirements.txt (line 2)) (3.8.3)\n",
      "Requirement already satisfied: numpy==1.26.4 in c:\\datascience\\danielsrag\\danielsrag\\.venv\\lib\\site-packages (from -r requirements.txt (line 3)) (1.26.4)\n",
      "Requirement already satisfied: pandas==2.2.1 in c:\\datascience\\danielsrag\\danielsrag\\.venv\\lib\\site-packages (from -r requirements.txt (line 4)) (2.2.1)\n",
      "Requirement already satisfied: Requests==2.31.0 in c:\\datascience\\danielsrag\\danielsrag\\.venv\\lib\\site-packages (from -r requirements.txt (line 5)) (2.31.0)\n",
      "Requirement already satisfied: sentence_transformers==2.5.1 in c:\\datascience\\danielsrag\\danielsrag\\.venv\\lib\\site-packages (from -r requirements.txt (line 6)) (2.5.1)\n",
      "Requirement already satisfied: spacy in c:\\datascience\\danielsrag\\danielsrag\\.venv\\lib\\site-packages (from -r requirements.txt (line 7)) (3.7.5)\n",
      "Requirement already satisfied: tqdm==4.66.2 in c:\\datascience\\danielsrag\\danielsrag\\.venv\\lib\\site-packages (from -r requirements.txt (line 8)) (4.66.2)\n",
      "Requirement already satisfied: transformers==4.38.2 in c:\\datascience\\danielsrag\\danielsrag\\.venv\\lib\\site-packages (from -r requirements.txt (line 9)) (4.38.2)\n",
      "Requirement already satisfied: accelerate in c:\\datascience\\danielsrag\\danielsrag\\.venv\\lib\\site-packages (from -r requirements.txt (line 10)) (1.1.1)\n",
      "Requirement already satisfied: bitsandbytes in c:\\datascience\\danielsrag\\danielsrag\\.venv\\lib\\site-packages (from -r requirements.txt (line 11)) (0.44.1)\n",
      "Requirement already satisfied: jupyter in c:\\datascience\\danielsrag\\danielsrag\\.venv\\lib\\site-packages (from -r requirements.txt (line 12)) (1.1.1)\n",
      "Requirement already satisfied: wheel in c:\\datascience\\danielsrag\\danielsrag\\.venv\\lib\\site-packages (from -r requirements.txt (line 13)) (0.45.0)\n",
      "Requirement already satisfied: PyMuPDFb==1.23.22 in c:\\datascience\\danielsrag\\danielsrag\\.venv\\lib\\site-packages (from PyMuPDF==1.23.26->-r requirements.txt (line 1)) (1.23.22)\n",
      "Requirement already satisfied: contourpy>=1.0.1 in c:\\datascience\\danielsrag\\danielsrag\\.venv\\lib\\site-packages (from matplotlib==3.8.3->-r requirements.txt (line 2)) (1.3.0)\n",
      "Requirement already satisfied: cycler>=0.10 in c:\\datascience\\danielsrag\\danielsrag\\.venv\\lib\\site-packages (from matplotlib==3.8.3->-r requirements.txt (line 2)) (0.12.1)\n",
      "Requirement already satisfied: fonttools>=4.22.0 in c:\\datascience\\danielsrag\\danielsrag\\.venv\\lib\\site-packages (from matplotlib==3.8.3->-r requirements.txt (line 2)) (4.54.1)\n",
      "Requirement already satisfied: kiwisolver>=1.3.1 in c:\\datascience\\danielsrag\\danielsrag\\.venv\\lib\\site-packages (from matplotlib==3.8.3->-r requirements.txt (line 2)) (1.4.7)\n",
      "Requirement already satisfied: packaging>=20.0 in c:\\datascience\\danielsrag\\danielsrag\\.venv\\lib\\site-packages (from matplotlib==3.8.3->-r requirements.txt (line 2)) (24.2)\n",
      "Requirement already satisfied: pillow>=8 in c:\\datascience\\danielsrag\\danielsrag\\.venv\\lib\\site-packages (from matplotlib==3.8.3->-r requirements.txt (line 2)) (11.0.0)\n",
      "Requirement already satisfied: pyparsing>=2.3.1 in c:\\datascience\\danielsrag\\danielsrag\\.venv\\lib\\site-packages (from matplotlib==3.8.3->-r requirements.txt (line 2)) (3.2.0)\n",
      "Requirement already satisfied: python-dateutil>=2.7 in c:\\datascience\\danielsrag\\danielsrag\\.venv\\lib\\site-packages (from matplotlib==3.8.3->-r requirements.txt (line 2)) (2.9.0.post0)\n",
      "Requirement already satisfied: pytz>=2020.1 in c:\\datascience\\danielsrag\\danielsrag\\.venv\\lib\\site-packages (from pandas==2.2.1->-r requirements.txt (line 4)) (2024.2)\n",
      "Requirement already satisfied: tzdata>=2022.7 in c:\\datascience\\danielsrag\\danielsrag\\.venv\\lib\\site-packages (from pandas==2.2.1->-r requirements.txt (line 4)) (2024.2)\n",
      "Requirement already satisfied: charset-normalizer<4,>=2 in c:\\datascience\\danielsrag\\danielsrag\\.venv\\lib\\site-packages (from Requests==2.31.0->-r requirements.txt (line 5)) (3.4.0)\n",
      "Requirement already satisfied: idna<4,>=2.5 in c:\\datascience\\danielsrag\\danielsrag\\.venv\\lib\\site-packages (from Requests==2.31.0->-r requirements.txt (line 5)) (3.10)\n",
      "Requirement already satisfied: urllib3<3,>=1.21.1 in c:\\datascience\\danielsrag\\danielsrag\\.venv\\lib\\site-packages (from Requests==2.31.0->-r requirements.txt (line 5)) (2.2.3)\n",
      "Requirement already satisfied: certifi>=2017.4.17 in c:\\datascience\\danielsrag\\danielsrag\\.venv\\lib\\site-packages (from Requests==2.31.0->-r requirements.txt (line 5)) (2024.8.30)\n",
      "Requirement already satisfied: torch>=1.11.0 in c:\\datascience\\danielsrag\\danielsrag\\.venv\\lib\\site-packages (from sentence_transformers==2.5.1->-r requirements.txt (line 6)) (2.5.1+cu121)\n",
      "Requirement already satisfied: scikit-learn in c:\\datascience\\danielsrag\\danielsrag\\.venv\\lib\\site-packages (from sentence_transformers==2.5.1->-r requirements.txt (line 6)) (1.5.2)\n",
      "Requirement already satisfied: scipy in c:\\datascience\\danielsrag\\danielsrag\\.venv\\lib\\site-packages (from sentence_transformers==2.5.1->-r requirements.txt (line 6)) (1.14.1)\n",
      "Requirement already satisfied: huggingface-hub>=0.15.1 in c:\\datascience\\danielsrag\\danielsrag\\.venv\\lib\\site-packages (from sentence_transformers==2.5.1->-r requirements.txt (line 6)) (0.26.2)\n",
      "Requirement already satisfied: colorama in c:\\datascience\\danielsrag\\danielsrag\\.venv\\lib\\site-packages (from tqdm==4.66.2->-r requirements.txt (line 8)) (0.4.6)\n",
      "Requirement already satisfied: filelock in c:\\datascience\\danielsrag\\danielsrag\\.venv\\lib\\site-packages (from transformers==4.38.2->-r requirements.txt (line 9)) (3.16.1)\n",
      "Requirement already satisfied: pyyaml>=5.1 in c:\\datascience\\danielsrag\\danielsrag\\.venv\\lib\\site-packages (from transformers==4.38.2->-r requirements.txt (line 9)) (6.0.2)\n",
      "Requirement already satisfied: regex!=2019.12.17 in c:\\datascience\\danielsrag\\danielsrag\\.venv\\lib\\site-packages (from transformers==4.38.2->-r requirements.txt (line 9)) (2024.11.6)\n",
      "Requirement already satisfied: tokenizers<0.19,>=0.14 in c:\\datascience\\danielsrag\\danielsrag\\.venv\\lib\\site-packages (from transformers==4.38.2->-r requirements.txt (line 9)) (0.15.2)\n",
      "Requirement already satisfied: safetensors>=0.4.1 in c:\\datascience\\danielsrag\\danielsrag\\.venv\\lib\\site-packages (from transformers==4.38.2->-r requirements.txt (line 9)) (0.4.5)\n",
      "Requirement already satisfied: spacy-legacy<3.1.0,>=3.0.11 in c:\\datascience\\danielsrag\\danielsrag\\.venv\\lib\\site-packages (from spacy->-r requirements.txt (line 7)) (3.0.12)\n",
      "Requirement already satisfied: spacy-loggers<2.0.0,>=1.0.0 in c:\\datascience\\danielsrag\\danielsrag\\.venv\\lib\\site-packages (from spacy->-r requirements.txt (line 7)) (1.0.5)\n",
      "Requirement already satisfied: murmurhash<1.1.0,>=0.28.0 in c:\\datascience\\danielsrag\\danielsrag\\.venv\\lib\\site-packages (from spacy->-r requirements.txt (line 7)) (1.0.10)\n",
      "Requirement already satisfied: cymem<2.1.0,>=2.0.2 in c:\\datascience\\danielsrag\\danielsrag\\.venv\\lib\\site-packages (from spacy->-r requirements.txt (line 7)) (2.0.8)\n",
      "Requirement already satisfied: preshed<3.1.0,>=3.0.2 in c:\\datascience\\danielsrag\\danielsrag\\.venv\\lib\\site-packages (from spacy->-r requirements.txt (line 7)) (3.0.9)\n",
      "Requirement already satisfied: thinc<8.3.0,>=8.2.2 in c:\\datascience\\danielsrag\\danielsrag\\.venv\\lib\\site-packages (from spacy->-r requirements.txt (line 7)) (8.2.5)\n",
      "Requirement already satisfied: wasabi<1.2.0,>=0.9.1 in c:\\datascience\\danielsrag\\danielsrag\\.venv\\lib\\site-packages (from spacy->-r requirements.txt (line 7)) (1.1.3)\n",
      "Requirement already satisfied: srsly<3.0.0,>=2.4.3 in c:\\datascience\\danielsrag\\danielsrag\\.venv\\lib\\site-packages (from spacy->-r requirements.txt (line 7)) (2.4.8)\n",
      "Requirement already satisfied: catalogue<2.1.0,>=2.0.6 in c:\\datascience\\danielsrag\\danielsrag\\.venv\\lib\\site-packages (from spacy->-r requirements.txt (line 7)) (2.0.10)\n",
      "Requirement already satisfied: weasel<0.5.0,>=0.1.0 in c:\\datascience\\danielsrag\\danielsrag\\.venv\\lib\\site-packages (from spacy->-r requirements.txt (line 7)) (0.4.1)\n",
      "Requirement already satisfied: typer<1.0.0,>=0.3.0 in c:\\datascience\\danielsrag\\danielsrag\\.venv\\lib\\site-packages (from spacy->-r requirements.txt (line 7)) (0.13.0)\n",
      "Requirement already satisfied: pydantic!=1.8,!=1.8.1,<3.0.0,>=1.7.4 in c:\\datascience\\danielsrag\\danielsrag\\.venv\\lib\\site-packages (from spacy->-r requirements.txt (line 7)) (2.9.2)\n",
      "Requirement already satisfied: jinja2 in c:\\datascience\\danielsrag\\danielsrag\\.venv\\lib\\site-packages (from spacy->-r requirements.txt (line 7)) (3.1.4)\n",
      "Requirement already satisfied: setuptools in c:\\datascience\\danielsrag\\danielsrag\\.venv\\lib\\site-packages (from spacy->-r requirements.txt (line 7)) (65.5.0)\n",
      "Requirement already satisfied: langcodes<4.0.0,>=3.2.0 in c:\\datascience\\danielsrag\\danielsrag\\.venv\\lib\\site-packages (from spacy->-r requirements.txt (line 7)) (3.4.1)\n",
      "Requirement already satisfied: psutil in c:\\datascience\\danielsrag\\danielsrag\\.venv\\lib\\site-packages (from accelerate->-r requirements.txt (line 10)) (6.1.0)\n",
      "Requirement already satisfied: notebook in c:\\datascience\\danielsrag\\danielsrag\\.venv\\lib\\site-packages (from jupyter->-r requirements.txt (line 12)) (7.2.2)\n",
      "Requirement already satisfied: jupyter-console in c:\\datascience\\danielsrag\\danielsrag\\.venv\\lib\\site-packages (from jupyter->-r requirements.txt (line 12)) (6.6.3)\n",
      "Requirement already satisfied: nbconvert in c:\\datascience\\danielsrag\\danielsrag\\.venv\\lib\\site-packages (from jupyter->-r requirements.txt (line 12)) (7.16.4)\n",
      "Requirement already satisfied: ipykernel in c:\\datascience\\danielsrag\\danielsrag\\.venv\\lib\\site-packages (from jupyter->-r requirements.txt (line 12)) (6.29.5)\n",
      "Requirement already satisfied: ipywidgets in c:\\datascience\\danielsrag\\danielsrag\\.venv\\lib\\site-packages (from jupyter->-r requirements.txt (line 12)) (8.1.5)\n",
      "Requirement already satisfied: jupyterlab in c:\\datascience\\danielsrag\\danielsrag\\.venv\\lib\\site-packages (from jupyter->-r requirements.txt (line 12)) (4.2.5)\n",
      "Requirement already satisfied: fsspec>=2023.5.0 in c:\\datascience\\danielsrag\\danielsrag\\.venv\\lib\\site-packages (from huggingface-hub>=0.15.1->sentence_transformers==2.5.1->-r requirements.txt (line 6)) (2024.10.0)\n",
      "Requirement already satisfied: typing-extensions>=3.7.4.3 in c:\\datascience\\danielsrag\\danielsrag\\.venv\\lib\\site-packages (from huggingface-hub>=0.15.1->sentence_transformers==2.5.1->-r requirements.txt (line 6)) (4.12.2)\n",
      "Requirement already satisfied: language-data>=1.2 in c:\\datascience\\danielsrag\\danielsrag\\.venv\\lib\\site-packages (from langcodes<4.0.0,>=3.2.0->spacy->-r requirements.txt (line 7)) (1.2.0)\n",
      "Requirement already satisfied: annotated-types>=0.6.0 in c:\\datascience\\danielsrag\\danielsrag\\.venv\\lib\\site-packages (from pydantic!=1.8,!=1.8.1,<3.0.0,>=1.7.4->spacy->-r requirements.txt (line 7)) (0.7.0)\n",
      "Requirement already satisfied: pydantic-core==2.23.4 in c:\\datascience\\danielsrag\\danielsrag\\.venv\\lib\\site-packages (from pydantic!=1.8,!=1.8.1,<3.0.0,>=1.7.4->spacy->-r requirements.txt (line 7)) (2.23.4)\n",
      "Requirement already satisfied: six>=1.5 in c:\\datascience\\danielsrag\\danielsrag\\.venv\\lib\\site-packages (from python-dateutil>=2.7->matplotlib==3.8.3->-r requirements.txt (line 2)) (1.16.0)\n",
      "Requirement already satisfied: blis<0.8.0,>=0.7.8 in c:\\datascience\\danielsrag\\danielsrag\\.venv\\lib\\site-packages (from thinc<8.3.0,>=8.2.2->spacy->-r requirements.txt (line 7)) (0.7.11)\n",
      "Requirement already satisfied: confection<1.0.0,>=0.0.1 in c:\\datascience\\danielsrag\\danielsrag\\.venv\\lib\\site-packages (from thinc<8.3.0,>=8.2.2->spacy->-r requirements.txt (line 7)) (0.1.5)\n",
      "Requirement already satisfied: networkx in c:\\datascience\\danielsrag\\danielsrag\\.venv\\lib\\site-packages (from torch>=1.11.0->sentence_transformers==2.5.1->-r requirements.txt (line 6)) (3.4.2)\n",
      "Requirement already satisfied: sympy==1.13.1 in c:\\datascience\\danielsrag\\danielsrag\\.venv\\lib\\site-packages (from torch>=1.11.0->sentence_transformers==2.5.1->-r requirements.txt (line 6)) (1.13.1)\n",
      "Requirement already satisfied: mpmath<1.4,>=1.1.0 in c:\\datascience\\danielsrag\\danielsrag\\.venv\\lib\\site-packages (from sympy==1.13.1->torch>=1.11.0->sentence_transformers==2.5.1->-r requirements.txt (line 6)) (1.3.0)\n",
      "Requirement already satisfied: click>=8.0.0 in c:\\datascience\\danielsrag\\danielsrag\\.venv\\lib\\site-packages (from typer<1.0.0,>=0.3.0->spacy->-r requirements.txt (line 7)) (8.1.7)\n",
      "Requirement already satisfied: shellingham>=1.3.0 in c:\\datascience\\danielsrag\\danielsrag\\.venv\\lib\\site-packages (from typer<1.0.0,>=0.3.0->spacy->-r requirements.txt (line 7)) (1.5.4)\n",
      "Requirement already satisfied: rich>=10.11.0 in c:\\datascience\\danielsrag\\danielsrag\\.venv\\lib\\site-packages (from typer<1.0.0,>=0.3.0->spacy->-r requirements.txt (line 7)) (13.9.4)\n",
      "Requirement already satisfied: cloudpathlib<1.0.0,>=0.7.0 in c:\\datascience\\danielsrag\\danielsrag\\.venv\\lib\\site-packages (from weasel<0.5.0,>=0.1.0->spacy->-r requirements.txt (line 7)) (0.20.0)\n",
      "Requirement already satisfied: smart-open<8.0.0,>=5.2.1 in c:\\datascience\\danielsrag\\danielsrag\\.venv\\lib\\site-packages (from weasel<0.5.0,>=0.1.0->spacy->-r requirements.txt (line 7)) (7.0.5)\n",
      "Requirement already satisfied: comm>=0.1.1 in c:\\datascience\\danielsrag\\danielsrag\\.venv\\lib\\site-packages (from ipykernel->jupyter->-r requirements.txt (line 12)) (0.2.2)\n",
      "Requirement already satisfied: debugpy>=1.6.5 in c:\\datascience\\danielsrag\\danielsrag\\.venv\\lib\\site-packages (from ipykernel->jupyter->-r requirements.txt (line 12)) (1.8.8)\n",
      "Requirement already satisfied: ipython>=7.23.1 in c:\\datascience\\danielsrag\\danielsrag\\.venv\\lib\\site-packages (from ipykernel->jupyter->-r requirements.txt (line 12)) (8.29.0)\n",
      "Requirement already satisfied: jupyter-client>=6.1.12 in c:\\datascience\\danielsrag\\danielsrag\\.venv\\lib\\site-packages (from ipykernel->jupyter->-r requirements.txt (line 12)) (8.6.3)\n",
      "Requirement already satisfied: jupyter-core!=5.0.*,>=4.12 in c:\\datascience\\danielsrag\\danielsrag\\.venv\\lib\\site-packages (from ipykernel->jupyter->-r requirements.txt (line 12)) (5.7.2)\n",
      "Requirement already satisfied: matplotlib-inline>=0.1 in c:\\datascience\\danielsrag\\danielsrag\\.venv\\lib\\site-packages (from ipykernel->jupyter->-r requirements.txt (line 12)) (0.1.7)\n",
      "Requirement already satisfied: nest-asyncio in c:\\datascience\\danielsrag\\danielsrag\\.venv\\lib\\site-packages (from ipykernel->jupyter->-r requirements.txt (line 12)) (1.6.0)\n",
      "Requirement already satisfied: pyzmq>=24 in c:\\datascience\\danielsrag\\danielsrag\\.venv\\lib\\site-packages (from ipykernel->jupyter->-r requirements.txt (line 12)) (26.2.0)\n",
      "Requirement already satisfied: tornado>=6.1 in c:\\datascience\\danielsrag\\danielsrag\\.venv\\lib\\site-packages (from ipykernel->jupyter->-r requirements.txt (line 12)) (6.4.1)\n",
      "Requirement already satisfied: traitlets>=5.4.0 in c:\\datascience\\danielsrag\\danielsrag\\.venv\\lib\\site-packages (from ipykernel->jupyter->-r requirements.txt (line 12)) (5.14.3)\n",
      "Requirement already satisfied: widgetsnbextension~=4.0.12 in c:\\datascience\\danielsrag\\danielsrag\\.venv\\lib\\site-packages (from ipywidgets->jupyter->-r requirements.txt (line 12)) (4.0.13)\n",
      "Requirement already satisfied: jupyterlab-widgets~=3.0.12 in c:\\datascience\\danielsrag\\danielsrag\\.venv\\lib\\site-packages (from ipywidgets->jupyter->-r requirements.txt (line 12)) (3.0.13)\n",
      "Requirement already satisfied: MarkupSafe>=2.0 in c:\\datascience\\danielsrag\\danielsrag\\.venv\\lib\\site-packages (from jinja2->spacy->-r requirements.txt (line 7)) (3.0.2)\n",
      "Requirement already satisfied: prompt-toolkit>=3.0.30 in c:\\datascience\\danielsrag\\danielsrag\\.venv\\lib\\site-packages (from jupyter-console->jupyter->-r requirements.txt (line 12)) (3.0.48)\n",
      "Requirement already satisfied: pygments in c:\\datascience\\danielsrag\\danielsrag\\.venv\\lib\\site-packages (from jupyter-console->jupyter->-r requirements.txt (line 12)) (2.18.0)\n",
      "Requirement already satisfied: async-lru>=1.0.0 in c:\\datascience\\danielsrag\\danielsrag\\.venv\\lib\\site-packages (from jupyterlab->jupyter->-r requirements.txt (line 12)) (2.0.4)\n",
      "Requirement already satisfied: httpx>=0.25.0 in c:\\datascience\\danielsrag\\danielsrag\\.venv\\lib\\site-packages (from jupyterlab->jupyter->-r requirements.txt (line 12)) (0.27.2)\n",
      "Requirement already satisfied: jupyter-lsp>=2.0.0 in c:\\datascience\\danielsrag\\danielsrag\\.venv\\lib\\site-packages (from jupyterlab->jupyter->-r requirements.txt (line 12)) (2.2.5)\n",
      "Requirement already satisfied: jupyter-server<3,>=2.4.0 in c:\\datascience\\danielsrag\\danielsrag\\.venv\\lib\\site-packages (from jupyterlab->jupyter->-r requirements.txt (line 12)) (2.14.2)\n",
      "Requirement already satisfied: jupyterlab-server<3,>=2.27.1 in c:\\datascience\\danielsrag\\danielsrag\\.venv\\lib\\site-packages (from jupyterlab->jupyter->-r requirements.txt (line 12)) (2.27.3)\n",
      "Requirement already satisfied: notebook-shim>=0.2 in c:\\datascience\\danielsrag\\danielsrag\\.venv\\lib\\site-packages (from jupyterlab->jupyter->-r requirements.txt (line 12)) (0.2.4)\n",
      "Requirement already satisfied: beautifulsoup4 in c:\\datascience\\danielsrag\\danielsrag\\.venv\\lib\\site-packages (from nbconvert->jupyter->-r requirements.txt (line 12)) (4.12.3)\n",
      "Requirement already satisfied: bleach!=5.0.0 in c:\\datascience\\danielsrag\\danielsrag\\.venv\\lib\\site-packages (from nbconvert->jupyter->-r requirements.txt (line 12)) (6.2.0)\n",
      "Requirement already satisfied: defusedxml in c:\\datascience\\danielsrag\\danielsrag\\.venv\\lib\\site-packages (from nbconvert->jupyter->-r requirements.txt (line 12)) (0.7.1)\n",
      "Requirement already satisfied: jupyterlab-pygments in c:\\datascience\\danielsrag\\danielsrag\\.venv\\lib\\site-packages (from nbconvert->jupyter->-r requirements.txt (line 12)) (0.3.0)\n",
      "Requirement already satisfied: mistune<4,>=2.0.3 in c:\\datascience\\danielsrag\\danielsrag\\.venv\\lib\\site-packages (from nbconvert->jupyter->-r requirements.txt (line 12)) (3.0.2)\n",
      "Requirement already satisfied: nbclient>=0.5.0 in c:\\datascience\\danielsrag\\danielsrag\\.venv\\lib\\site-packages (from nbconvert->jupyter->-r requirements.txt (line 12)) (0.10.0)\n",
      "Requirement already satisfied: nbformat>=5.7 in c:\\datascience\\danielsrag\\danielsrag\\.venv\\lib\\site-packages (from nbconvert->jupyter->-r requirements.txt (line 12)) (5.10.4)\n",
      "Requirement already satisfied: pandocfilters>=1.4.1 in c:\\datascience\\danielsrag\\danielsrag\\.venv\\lib\\site-packages (from nbconvert->jupyter->-r requirements.txt (line 12)) (1.5.1)\n",
      "Requirement already satisfied: tinycss2 in c:\\datascience\\danielsrag\\danielsrag\\.venv\\lib\\site-packages (from nbconvert->jupyter->-r requirements.txt (line 12)) (1.4.0)\n",
      "Requirement already satisfied: joblib>=1.2.0 in c:\\datascience\\danielsrag\\danielsrag\\.venv\\lib\\site-packages (from scikit-learn->sentence_transformers==2.5.1->-r requirements.txt (line 6)) (1.4.2)\n",
      "Requirement already satisfied: threadpoolctl>=3.1.0 in c:\\datascience\\danielsrag\\danielsrag\\.venv\\lib\\site-packages (from scikit-learn->sentence_transformers==2.5.1->-r requirements.txt (line 6)) (3.5.0)\n",
      "Requirement already satisfied: webencodings in c:\\datascience\\danielsrag\\danielsrag\\.venv\\lib\\site-packages (from bleach!=5.0.0->nbconvert->jupyter->-r requirements.txt (line 12)) (0.5.1)\n",
      "Requirement already satisfied: anyio in c:\\datascience\\danielsrag\\danielsrag\\.venv\\lib\\site-packages (from httpx>=0.25.0->jupyterlab->jupyter->-r requirements.txt (line 12)) (4.6.2.post1)\n",
      "Requirement already satisfied: httpcore==1.* in c:\\datascience\\danielsrag\\danielsrag\\.venv\\lib\\site-packages (from httpx>=0.25.0->jupyterlab->jupyter->-r requirements.txt (line 12)) (1.0.6)\n",
      "Requirement already satisfied: sniffio in c:\\datascience\\danielsrag\\danielsrag\\.venv\\lib\\site-packages (from httpx>=0.25.0->jupyterlab->jupyter->-r requirements.txt (line 12)) (1.3.1)\n",
      "Requirement already satisfied: h11<0.15,>=0.13 in c:\\datascience\\danielsrag\\danielsrag\\.venv\\lib\\site-packages (from httpcore==1.*->httpx>=0.25.0->jupyterlab->jupyter->-r requirements.txt (line 12)) (0.14.0)\n",
      "Requirement already satisfied: decorator in c:\\datascience\\danielsrag\\danielsrag\\.venv\\lib\\site-packages (from ipython>=7.23.1->ipykernel->jupyter->-r requirements.txt (line 12)) (5.1.1)\n",
      "Requirement already satisfied: jedi>=0.16 in c:\\datascience\\danielsrag\\danielsrag\\.venv\\lib\\site-packages (from ipython>=7.23.1->ipykernel->jupyter->-r requirements.txt (line 12)) (0.19.1)\n",
      "Requirement already satisfied: stack-data in c:\\datascience\\danielsrag\\danielsrag\\.venv\\lib\\site-packages (from ipython>=7.23.1->ipykernel->jupyter->-r requirements.txt (line 12)) (0.6.3)\n",
      "Requirement already satisfied: platformdirs>=2.5 in c:\\datascience\\danielsrag\\danielsrag\\.venv\\lib\\site-packages (from jupyter-core!=5.0.*,>=4.12->ipykernel->jupyter->-r requirements.txt (line 12)) (4.3.6)\n",
      "Requirement already satisfied: pywin32>=300 in c:\\datascience\\danielsrag\\danielsrag\\.venv\\lib\\site-packages (from jupyter-core!=5.0.*,>=4.12->ipykernel->jupyter->-r requirements.txt (line 12)) (308)\n",
      "Requirement already satisfied: argon2-cffi>=21.1 in c:\\datascience\\danielsrag\\danielsrag\\.venv\\lib\\site-packages (from jupyter-server<3,>=2.4.0->jupyterlab->jupyter->-r requirements.txt (line 12)) (23.1.0)\n",
      "Requirement already satisfied: jupyter-events>=0.9.0 in c:\\datascience\\danielsrag\\danielsrag\\.venv\\lib\\site-packages (from jupyter-server<3,>=2.4.0->jupyterlab->jupyter->-r requirements.txt (line 12)) (0.10.0)\n",
      "Requirement already satisfied: jupyter-server-terminals>=0.4.4 in c:\\datascience\\danielsrag\\danielsrag\\.venv\\lib\\site-packages (from jupyter-server<3,>=2.4.0->jupyterlab->jupyter->-r requirements.txt (line 12)) (0.5.3)\n",
      "Requirement already satisfied: overrides>=5.0 in c:\\datascience\\danielsrag\\danielsrag\\.venv\\lib\\site-packages (from jupyter-server<3,>=2.4.0->jupyterlab->jupyter->-r requirements.txt (line 12)) (7.7.0)\n",
      "Requirement already satisfied: prometheus-client>=0.9 in c:\\datascience\\danielsrag\\danielsrag\\.venv\\lib\\site-packages (from jupyter-server<3,>=2.4.0->jupyterlab->jupyter->-r requirements.txt (line 12)) (0.21.0)\n",
      "Requirement already satisfied: pywinpty>=2.0.1 in c:\\datascience\\danielsrag\\danielsrag\\.venv\\lib\\site-packages (from jupyter-server<3,>=2.4.0->jupyterlab->jupyter->-r requirements.txt (line 12)) (2.0.14)\n",
      "Requirement already satisfied: send2trash>=1.8.2 in c:\\datascience\\danielsrag\\danielsrag\\.venv\\lib\\site-packages (from jupyter-server<3,>=2.4.0->jupyterlab->jupyter->-r requirements.txt (line 12)) (1.8.3)\n",
      "Requirement already satisfied: terminado>=0.8.3 in c:\\datascience\\danielsrag\\danielsrag\\.venv\\lib\\site-packages (from jupyter-server<3,>=2.4.0->jupyterlab->jupyter->-r requirements.txt (line 12)) (0.18.1)\n",
      "Requirement already satisfied: websocket-client>=1.7 in c:\\datascience\\danielsrag\\danielsrag\\.venv\\lib\\site-packages (from jupyter-server<3,>=2.4.0->jupyterlab->jupyter->-r requirements.txt (line 12)) (1.8.0)\n",
      "Requirement already satisfied: babel>=2.10 in c:\\datascience\\danielsrag\\danielsrag\\.venv\\lib\\site-packages (from jupyterlab-server<3,>=2.27.1->jupyterlab->jupyter->-r requirements.txt (line 12)) (2.16.0)\n",
      "Requirement already satisfied: json5>=0.9.0 in c:\\datascience\\danielsrag\\danielsrag\\.venv\\lib\\site-packages (from jupyterlab-server<3,>=2.27.1->jupyterlab->jupyter->-r requirements.txt (line 12)) (0.9.25)\n",
      "Requirement already satisfied: jsonschema>=4.18.0 in c:\\datascience\\danielsrag\\danielsrag\\.venv\\lib\\site-packages (from jupyterlab-server<3,>=2.27.1->jupyterlab->jupyter->-r requirements.txt (line 12)) (4.23.0)\n",
      "Requirement already satisfied: marisa-trie>=0.7.7 in c:\\datascience\\danielsrag\\danielsrag\\.venv\\lib\\site-packages (from language-data>=1.2->langcodes<4.0.0,>=3.2.0->spacy->-r requirements.txt (line 7)) (1.2.1)\n",
      "Requirement already satisfied: fastjsonschema>=2.15 in c:\\datascience\\danielsrag\\danielsrag\\.venv\\lib\\site-packages (from nbformat>=5.7->nbconvert->jupyter->-r requirements.txt (line 12)) (2.20.0)\n",
      "Requirement already satisfied: wcwidth in c:\\datascience\\danielsrag\\danielsrag\\.venv\\lib\\site-packages (from prompt-toolkit>=3.0.30->jupyter-console->jupyter->-r requirements.txt (line 12)) (0.2.13)\n",
      "Requirement already satisfied: markdown-it-py>=2.2.0 in c:\\datascience\\danielsrag\\danielsrag\\.venv\\lib\\site-packages (from rich>=10.11.0->typer<1.0.0,>=0.3.0->spacy->-r requirements.txt (line 7)) (3.0.0)\n",
      "Requirement already satisfied: wrapt in c:\\datascience\\danielsrag\\danielsrag\\.venv\\lib\\site-packages (from smart-open<8.0.0,>=5.2.1->weasel<0.5.0,>=0.1.0->spacy->-r requirements.txt (line 7)) (1.16.0)\n",
      "Requirement already satisfied: soupsieve>1.2 in c:\\datascience\\danielsrag\\danielsrag\\.venv\\lib\\site-packages (from beautifulsoup4->nbconvert->jupyter->-r requirements.txt (line 12)) (2.6)\n",
      "Requirement already satisfied: argon2-cffi-bindings in c:\\datascience\\danielsrag\\danielsrag\\.venv\\lib\\site-packages (from argon2-cffi>=21.1->jupyter-server<3,>=2.4.0->jupyterlab->jupyter->-r requirements.txt (line 12)) (21.2.0)\n",
      "Requirement already satisfied: parso<0.9.0,>=0.8.3 in c:\\datascience\\danielsrag\\danielsrag\\.venv\\lib\\site-packages (from jedi>=0.16->ipython>=7.23.1->ipykernel->jupyter->-r requirements.txt (line 12)) (0.8.4)\n",
      "Requirement already satisfied: attrs>=22.2.0 in c:\\datascience\\danielsrag\\danielsrag\\.venv\\lib\\site-packages (from jsonschema>=4.18.0->jupyterlab-server<3,>=2.27.1->jupyterlab->jupyter->-r requirements.txt (line 12)) (24.2.0)\n",
      "Requirement already satisfied: jsonschema-specifications>=2023.03.6 in c:\\datascience\\danielsrag\\danielsrag\\.venv\\lib\\site-packages (from jsonschema>=4.18.0->jupyterlab-server<3,>=2.27.1->jupyterlab->jupyter->-r requirements.txt (line 12)) (2024.10.1)\n",
      "Requirement already satisfied: referencing>=0.28.4 in c:\\datascience\\danielsrag\\danielsrag\\.venv\\lib\\site-packages (from jsonschema>=4.18.0->jupyterlab-server<3,>=2.27.1->jupyterlab->jupyter->-r requirements.txt (line 12)) (0.35.1)\n",
      "Requirement already satisfied: rpds-py>=0.7.1 in c:\\datascience\\danielsrag\\danielsrag\\.venv\\lib\\site-packages (from jsonschema>=4.18.0->jupyterlab-server<3,>=2.27.1->jupyterlab->jupyter->-r requirements.txt (line 12)) (0.21.0)\n",
      "Requirement already satisfied: python-json-logger>=2.0.4 in c:\\datascience\\danielsrag\\danielsrag\\.venv\\lib\\site-packages (from jupyter-events>=0.9.0->jupyter-server<3,>=2.4.0->jupyterlab->jupyter->-r requirements.txt (line 12)) (2.0.7)\n",
      "Requirement already satisfied: rfc3339-validator in c:\\datascience\\danielsrag\\danielsrag\\.venv\\lib\\site-packages (from jupyter-events>=0.9.0->jupyter-server<3,>=2.4.0->jupyterlab->jupyter->-r requirements.txt (line 12)) (0.1.4)\n",
      "Requirement already satisfied: rfc3986-validator>=0.1.1 in c:\\datascience\\danielsrag\\danielsrag\\.venv\\lib\\site-packages (from jupyter-events>=0.9.0->jupyter-server<3,>=2.4.0->jupyterlab->jupyter->-r requirements.txt (line 12)) (0.1.1)\n",
      "Requirement already satisfied: mdurl~=0.1 in c:\\datascience\\danielsrag\\danielsrag\\.venv\\lib\\site-packages (from markdown-it-py>=2.2.0->rich>=10.11.0->typer<1.0.0,>=0.3.0->spacy->-r requirements.txt (line 7)) (0.1.2)\n",
      "Requirement already satisfied: executing>=1.2.0 in c:\\datascience\\danielsrag\\danielsrag\\.venv\\lib\\site-packages (from stack-data->ipython>=7.23.1->ipykernel->jupyter->-r requirements.txt (line 12)) (2.1.0)\n",
      "Requirement already satisfied: asttokens>=2.1.0 in c:\\datascience\\danielsrag\\danielsrag\\.venv\\lib\\site-packages (from stack-data->ipython>=7.23.1->ipykernel->jupyter->-r requirements.txt (line 12)) (2.4.1)\n",
      "Requirement already satisfied: pure-eval in c:\\datascience\\danielsrag\\danielsrag\\.venv\\lib\\site-packages (from stack-data->ipython>=7.23.1->ipykernel->jupyter->-r requirements.txt (line 12)) (0.2.3)\n",
      "Requirement already satisfied: fqdn in c:\\datascience\\danielsrag\\danielsrag\\.venv\\lib\\site-packages (from jsonschema[format-nongpl]>=4.18.0->jupyter-events>=0.9.0->jupyter-server<3,>=2.4.0->jupyterlab->jupyter->-r requirements.txt (line 12)) (1.5.1)\n",
      "Requirement already satisfied: isoduration in c:\\datascience\\danielsrag\\danielsrag\\.venv\\lib\\site-packages (from jsonschema[format-nongpl]>=4.18.0->jupyter-events>=0.9.0->jupyter-server<3,>=2.4.0->jupyterlab->jupyter->-r requirements.txt (line 12)) (20.11.0)\n",
      "Requirement already satisfied: jsonpointer>1.13 in c:\\datascience\\danielsrag\\danielsrag\\.venv\\lib\\site-packages (from jsonschema[format-nongpl]>=4.18.0->jupyter-events>=0.9.0->jupyter-server<3,>=2.4.0->jupyterlab->jupyter->-r requirements.txt (line 12)) (3.0.0)\n",
      "Requirement already satisfied: uri-template in c:\\datascience\\danielsrag\\danielsrag\\.venv\\lib\\site-packages (from jsonschema[format-nongpl]>=4.18.0->jupyter-events>=0.9.0->jupyter-server<3,>=2.4.0->jupyterlab->jupyter->-r requirements.txt (line 12)) (1.3.0)\n",
      "Requirement already satisfied: webcolors>=24.6.0 in c:\\datascience\\danielsrag\\danielsrag\\.venv\\lib\\site-packages (from jsonschema[format-nongpl]>=4.18.0->jupyter-events>=0.9.0->jupyter-server<3,>=2.4.0->jupyterlab->jupyter->-r requirements.txt (line 12)) (24.8.0)\n",
      "Requirement already satisfied: cffi>=1.0.1 in c:\\datascience\\danielsrag\\danielsrag\\.venv\\lib\\site-packages (from argon2-cffi-bindings->argon2-cffi>=21.1->jupyter-server<3,>=2.4.0->jupyterlab->jupyter->-r requirements.txt (line 12)) (1.17.1)\n",
      "Requirement already satisfied: pycparser in c:\\datascience\\danielsrag\\danielsrag\\.venv\\lib\\site-packages (from cffi>=1.0.1->argon2-cffi-bindings->argon2-cffi>=21.1->jupyter-server<3,>=2.4.0->jupyterlab->jupyter->-r requirements.txt (line 12)) (2.22)\n",
      "Requirement already satisfied: arrow>=0.15.0 in c:\\datascience\\danielsrag\\danielsrag\\.venv\\lib\\site-packages (from isoduration->jsonschema[format-nongpl]>=4.18.0->jupyter-events>=0.9.0->jupyter-server<3,>=2.4.0->jupyterlab->jupyter->-r requirements.txt (line 12)) (1.3.0)\n",
      "Requirement already satisfied: types-python-dateutil>=2.8.10 in c:\\datascience\\danielsrag\\danielsrag\\.venv\\lib\\site-packages (from arrow>=0.15.0->isoduration->jsonschema[format-nongpl]>=4.18.0->jupyter-events>=0.9.0->jupyter-server<3,>=2.4.0->jupyterlab->jupyter->-r requirements.txt (line 12)) (2.9.0.20241003)\n"
     ]
    }
   ],
   "source": [
    "%pip install -r requirements.txt"
   ]
  },
  {
   "cell_type": "code",
   "execution_count": 2,
   "metadata": {},
   "outputs": [
    {
     "name": "stdout",
     "output_type": "stream",
     "text": [
      "Looking in indexes: https://download.pytorch.org/whl/cu121\n",
      "Requirement already satisfied: torch in c:\\datascience\\danielsrag\\danielsrag\\.venv\\lib\\site-packages (2.5.1+cu121)\n",
      "Requirement already satisfied: torchvision in c:\\datascience\\danielsrag\\danielsrag\\.venv\\lib\\site-packages (0.20.1+cu121)\n",
      "Requirement already satisfied: torchaudio in c:\\datascience\\danielsrag\\danielsrag\\.venv\\lib\\site-packages (2.5.1+cu121)\n",
      "Requirement already satisfied: filelock in c:\\datascience\\danielsrag\\danielsrag\\.venv\\lib\\site-packages (from torch) (3.16.1)\n",
      "Requirement already satisfied: typing-extensions>=4.8.0 in c:\\datascience\\danielsrag\\danielsrag\\.venv\\lib\\site-packages (from torch) (4.12.2)\n",
      "Requirement already satisfied: networkx in c:\\datascience\\danielsrag\\danielsrag\\.venv\\lib\\site-packages (from torch) (3.4.2)\n",
      "Requirement already satisfied: jinja2 in c:\\datascience\\danielsrag\\danielsrag\\.venv\\lib\\site-packages (from torch) (3.1.4)\n",
      "Requirement already satisfied: fsspec in c:\\datascience\\danielsrag\\danielsrag\\.venv\\lib\\site-packages (from torch) (2024.10.0)\n",
      "Requirement already satisfied: sympy==1.13.1 in c:\\datascience\\danielsrag\\danielsrag\\.venv\\lib\\site-packages (from torch) (1.13.1)\n",
      "Requirement already satisfied: mpmath<1.4,>=1.1.0 in c:\\datascience\\danielsrag\\danielsrag\\.venv\\lib\\site-packages (from sympy==1.13.1->torch) (1.3.0)\n",
      "Requirement already satisfied: numpy in c:\\datascience\\danielsrag\\danielsrag\\.venv\\lib\\site-packages (from torchvision) (1.26.4)\n",
      "Requirement already satisfied: pillow!=8.3.*,>=5.3.0 in c:\\datascience\\danielsrag\\danielsrag\\.venv\\lib\\site-packages (from torchvision) (11.0.0)\n",
      "Requirement already satisfied: MarkupSafe>=2.0 in c:\\datascience\\danielsrag\\danielsrag\\.venv\\lib\\site-packages (from jinja2->torch) (3.0.2)\n",
      "Note: you may need to restart the kernel to use updated packages.\n"
     ]
    }
   ],
   "source": [
    "%pip install -U torch torchvision torchaudio --index-url https://download.pytorch.org/whl/cu121"
   ]
  },
  {
   "cell_type": "code",
   "execution_count": 3,
   "metadata": {},
   "outputs": [
    {
     "name": "stdout",
     "output_type": "stream",
     "text": [
      "Sat Nov 09 13:09:48 2024       \n",
      "+-----------------------------------------------------------------------------+\n",
      "| NVIDIA-SMI 457.49       Driver Version: 457.49       CUDA Version: 11.1     |\n",
      "|-------------------------------+----------------------+----------------------+\n",
      "| GPU  Name            TCC/WDDM | Bus-Id        Disp.A | Volatile Uncorr. ECC |\n",
      "| Fan  Temp  Perf  Pwr:Usage/Cap|         Memory-Usage | GPU-Util  Compute M. |\n",
      "|                               |                      |               MIG M. |\n",
      "|===============================+======================+======================|\n",
      "|   0  GeForce GTX 1650   WDDM  | 00000000:01:00.0  On |                  N/A |\n",
      "| N/A   52C    P8     3W /  N/A |    624MiB /  4096MiB |      0%      Default |\n",
      "|                               |                      |                  N/A |\n",
      "+-------------------------------+----------------------+----------------------+\n",
      "                                                                               \n",
      "+-----------------------------------------------------------------------------+\n",
      "| Processes:                                                                  |\n",
      "|  GPU   GI   CI        PID   Type   Process name                  GPU Memory |\n",
      "|        ID   ID                                                   Usage      |\n",
      "|=============================================================================|\n",
      "|    0   N/A  N/A     12180    C+G   Insufficient Permissions        N/A      |\n",
      "+-----------------------------------------------------------------------------+\n"
     ]
    }
   ],
   "source": [
    "!nvidia-smi"
   ]
  },
  {
   "cell_type": "markdown",
   "metadata": {},
   "source": [
    "[Info](https://whimsical.com/simple-local-rag-workflow-39kToR3yNf7E8kY4sS2tjV)"
   ]
  },
  {
   "cell_type": "code",
   "execution_count": 4,
   "metadata": {},
   "outputs": [
    {
     "name": "stdout",
     "output_type": "stream",
     "text": [
      "File exists ./data/human-nutrition-text.pdf\n"
     ]
    }
   ],
   "source": [
    "import os\n",
    "\n",
    "\n",
    "dataDir = \"./data/human-nutrition-text.pdf\"\n",
    "\n",
    "if not os.path.exists(dataDir):\n",
    "    print(f\"Doesn't exist {dataDir}\")\n",
    "else:\n",
    "    print(f\"File exists {dataDir}\")\n"
   ]
  },
  {
   "cell_type": "code",
   "execution_count": 5,
   "metadata": {},
   "outputs": [],
   "source": [
    "import fitz \n",
    "from tqdm.auto import tqdm\n",
    "\n",
    "def text_formatter(text: str) -> str:\n",
    "    return text.replace('\\n', ' ').strip()\n",
    "\n",
    "\n",
    "def read_pdf(path: str) -> list[dict]:\n",
    "    doc = fitz.open(path)\n",
    "    #print(f\"Number of pages: {len(doc)}\")\n",
    "    pages_and_text = []\n",
    "    for page_number, page in tqdm(enumerate(doc)):\n",
    "        text = page.get_text()\n",
    "        text = text_formatter(text)\n",
    "        pages_and_text.append({\"page_number\":page_number,\n",
    "                               \"page_char_count\":len(text),\n",
    "                               \"page_word_count\":len(text.split(\" \")),\n",
    "                               \"page_sentence_count\":len(text.split(\". \")),\n",
    "                               \"page_token_count\":len(text) / 4,\n",
    "                               \"page_text\":text})\n",
    "    return pages_and_text"
   ]
  },
  {
   "cell_type": "code",
   "execution_count": 6,
   "metadata": {},
   "outputs": [
    {
     "data": {
      "application/vnd.jupyter.widget-view+json": {
       "model_id": "4b5647e407b14a28910acd3376728ffb",
       "version_major": 2,
       "version_minor": 0
      },
      "text/plain": [
       "0it [00:00, ?it/s]"
      ]
     },
     "metadata": {},
     "output_type": "display_data"
    }
   ],
   "source": [
    "pages_and_text = read_pdf(path = dataDir)\n"
   ]
  },
  {
   "cell_type": "code",
   "execution_count": 7,
   "metadata": {},
   "outputs": [
    {
     "data": {
      "text/plain": [
       "[{'page_number': 0,\n",
       "  'page_char_count': 29,\n",
       "  'page_word_count': 4,\n",
       "  'page_sentence_count': 1,\n",
       "  'page_token_count': 7.25,\n",
       "  'page_text': 'Human Nutrition: 2020 Edition'},\n",
       " {'page_number': 1,\n",
       "  'page_char_count': 0,\n",
       "  'page_word_count': 1,\n",
       "  'page_sentence_count': 1,\n",
       "  'page_token_count': 0.0,\n",
       "  'page_text': ''}]"
      ]
     },
     "execution_count": 7,
     "metadata": {},
     "output_type": "execute_result"
    }
   ],
   "source": [
    "\n",
    "pages_and_text[:2]"
   ]
  },
  {
   "cell_type": "code",
   "execution_count": 8,
   "metadata": {},
   "outputs": [
    {
     "data": {
      "text/plain": [
       "[{'page_number': 187,\n",
       "  'page_char_count': 1501,\n",
       "  'page_word_count': 269,\n",
       "  'page_sentence_count': 7,\n",
       "  'page_token_count': 375.25,\n",
       "  'page_text': 'Image by Cassie Matias on unsplash.com / CC0  Learning Objectives  By the end of this chapter you will be able to:  •  Describe the importance of water intake for the  body  •  Describe the major aspects of water regulation in  the body  •  Describe the function, balance, sources, and  consequences of the imbalance of [electrolytes  •  Describe the effects and use of popular beverage  choices  Maintaining the right level of water in your body is crucial to  survival, as either too little or too much water in your body will  result in less-than-optimal functioning. One mechanism to help  ensure the body maintains water balance is thirst. Thirst is the  result of your body’s physiology telling your brain to initiate the  thought to take a drink. Sensory proteins detect when your mouth is  dry, your blood volume too low, or blood electrolyte concentrations  too high and send signals to the brain stimulating the conscious  feeling to drink.  In the summer of 1965, the assistant football coach of the  University of Florida Gators requested scientists affiliated with the  university study why the withering heat of Florida caused so many  heat-related illnesses in football players and provide a solution to  increase athletic performance and recovery post-training or game.  The discovery was that inadequate replenishment of fluids,  carbohydrates, and electrolytes was the reason for the “wilting”  of their football players. Based on their research, the scientists  146  |  Introduction'},\n",
       " {'page_number': 136,\n",
       "  'page_char_count': 294,\n",
       "  'page_word_count': 58,\n",
       "  'page_sentence_count': 3,\n",
       "  'page_token_count': 73.5,\n",
       "  'page_text': 'Nervous  System” by  William  Crochot /  CC BY-SA 4.0  The brain’s main fuel is glucose and only in extreme starvation will  it use anything else. For acute mental alertness and clear thinking,  glucose must be systematically delivered to the brain. This does not  Central Nervous System  |  95'}]"
      ]
     },
     "execution_count": 8,
     "metadata": {},
     "output_type": "execute_result"
    }
   ],
   "source": [
    "import random\n",
    "\n",
    "random.sample(pages_and_text, 2)"
   ]
  },
  {
   "cell_type": "code",
   "execution_count": 9,
   "metadata": {},
   "outputs": [
    {
     "data": {
      "text/html": [
       "<div>\n",
       "<style scoped>\n",
       "    .dataframe tbody tr th:only-of-type {\n",
       "        vertical-align: middle;\n",
       "    }\n",
       "\n",
       "    .dataframe tbody tr th {\n",
       "        vertical-align: top;\n",
       "    }\n",
       "\n",
       "    .dataframe thead th {\n",
       "        text-align: right;\n",
       "    }\n",
       "</style>\n",
       "<table border=\"1\" class=\"dataframe\">\n",
       "  <thead>\n",
       "    <tr style=\"text-align: right;\">\n",
       "      <th></th>\n",
       "      <th>page_number</th>\n",
       "      <th>page_char_count</th>\n",
       "      <th>page_word_count</th>\n",
       "      <th>page_sentence_count</th>\n",
       "      <th>page_token_count</th>\n",
       "      <th>page_text</th>\n",
       "    </tr>\n",
       "  </thead>\n",
       "  <tbody>\n",
       "    <tr>\n",
       "      <th>0</th>\n",
       "      <td>0</td>\n",
       "      <td>29</td>\n",
       "      <td>4</td>\n",
       "      <td>1</td>\n",
       "      <td>7.25</td>\n",
       "      <td>Human Nutrition: 2020 Edition</td>\n",
       "    </tr>\n",
       "    <tr>\n",
       "      <th>1</th>\n",
       "      <td>1</td>\n",
       "      <td>0</td>\n",
       "      <td>1</td>\n",
       "      <td>1</td>\n",
       "      <td>0.00</td>\n",
       "      <td></td>\n",
       "    </tr>\n",
       "    <tr>\n",
       "      <th>2</th>\n",
       "      <td>2</td>\n",
       "      <td>320</td>\n",
       "      <td>54</td>\n",
       "      <td>1</td>\n",
       "      <td>80.00</td>\n",
       "      <td>Human Nutrition: 2020  Edition  UNIVERSITY OF ...</td>\n",
       "    </tr>\n",
       "    <tr>\n",
       "      <th>3</th>\n",
       "      <td>3</td>\n",
       "      <td>212</td>\n",
       "      <td>32</td>\n",
       "      <td>1</td>\n",
       "      <td>53.00</td>\n",
       "      <td>Human Nutrition: 2020 Edition by University of...</td>\n",
       "    </tr>\n",
       "    <tr>\n",
       "      <th>4</th>\n",
       "      <td>4</td>\n",
       "      <td>797</td>\n",
       "      <td>147</td>\n",
       "      <td>3</td>\n",
       "      <td>199.25</td>\n",
       "      <td>Contents  Preface  University of Hawai‘i at Mā...</td>\n",
       "    </tr>\n",
       "  </tbody>\n",
       "</table>\n",
       "</div>"
      ],
      "text/plain": [
       "   page_number  page_char_count  page_word_count  page_sentence_count  \\\n",
       "0            0               29                4                    1   \n",
       "1            1                0                1                    1   \n",
       "2            2              320               54                    1   \n",
       "3            3              212               32                    1   \n",
       "4            4              797              147                    3   \n",
       "\n",
       "   page_token_count                                          page_text  \n",
       "0              7.25                      Human Nutrition: 2020 Edition  \n",
       "1              0.00                                                     \n",
       "2             80.00  Human Nutrition: 2020  Edition  UNIVERSITY OF ...  \n",
       "3             53.00  Human Nutrition: 2020 Edition by University of...  \n",
       "4            199.25  Contents  Preface  University of Hawai‘i at Mā...  "
      ]
     },
     "execution_count": 9,
     "metadata": {},
     "output_type": "execute_result"
    }
   ],
   "source": [
    "import pandas as pd \n",
    "\n",
    "df = pd.DataFrame(pages_and_text)\n",
    "\n",
    "df.head()"
   ]
  },
  {
   "cell_type": "code",
   "execution_count": 10,
   "metadata": {},
   "outputs": [
    {
     "data": {
      "text/html": [
       "<div>\n",
       "<style scoped>\n",
       "    .dataframe tbody tr th:only-of-type {\n",
       "        vertical-align: middle;\n",
       "    }\n",
       "\n",
       "    .dataframe tbody tr th {\n",
       "        vertical-align: top;\n",
       "    }\n",
       "\n",
       "    .dataframe thead th {\n",
       "        text-align: right;\n",
       "    }\n",
       "</style>\n",
       "<table border=\"1\" class=\"dataframe\">\n",
       "  <thead>\n",
       "    <tr style=\"text-align: right;\">\n",
       "      <th></th>\n",
       "      <th>page_number</th>\n",
       "      <th>page_char_count</th>\n",
       "      <th>page_word_count</th>\n",
       "      <th>page_sentence_count</th>\n",
       "      <th>page_token_count</th>\n",
       "    </tr>\n",
       "  </thead>\n",
       "  <tbody>\n",
       "    <tr>\n",
       "      <th>count</th>\n",
       "      <td>1208.00</td>\n",
       "      <td>1208.00</td>\n",
       "      <td>1208.00</td>\n",
       "      <td>1208.00</td>\n",
       "      <td>1208.00</td>\n",
       "    </tr>\n",
       "    <tr>\n",
       "      <th>mean</th>\n",
       "      <td>603.50</td>\n",
       "      <td>1148.00</td>\n",
       "      <td>199.50</td>\n",
       "      <td>10.52</td>\n",
       "      <td>287.00</td>\n",
       "    </tr>\n",
       "    <tr>\n",
       "      <th>std</th>\n",
       "      <td>348.86</td>\n",
       "      <td>560.38</td>\n",
       "      <td>95.83</td>\n",
       "      <td>6.55</td>\n",
       "      <td>140.10</td>\n",
       "    </tr>\n",
       "    <tr>\n",
       "      <th>min</th>\n",
       "      <td>0.00</td>\n",
       "      <td>0.00</td>\n",
       "      <td>1.00</td>\n",
       "      <td>1.00</td>\n",
       "      <td>0.00</td>\n",
       "    </tr>\n",
       "    <tr>\n",
       "      <th>25%</th>\n",
       "      <td>301.75</td>\n",
       "      <td>762.00</td>\n",
       "      <td>134.00</td>\n",
       "      <td>5.00</td>\n",
       "      <td>190.50</td>\n",
       "    </tr>\n",
       "    <tr>\n",
       "      <th>50%</th>\n",
       "      <td>603.50</td>\n",
       "      <td>1231.50</td>\n",
       "      <td>216.00</td>\n",
       "      <td>10.00</td>\n",
       "      <td>307.88</td>\n",
       "    </tr>\n",
       "    <tr>\n",
       "      <th>75%</th>\n",
       "      <td>905.25</td>\n",
       "      <td>1603.50</td>\n",
       "      <td>272.00</td>\n",
       "      <td>15.00</td>\n",
       "      <td>400.88</td>\n",
       "    </tr>\n",
       "    <tr>\n",
       "      <th>max</th>\n",
       "      <td>1207.00</td>\n",
       "      <td>2308.00</td>\n",
       "      <td>430.00</td>\n",
       "      <td>39.00</td>\n",
       "      <td>577.00</td>\n",
       "    </tr>\n",
       "  </tbody>\n",
       "</table>\n",
       "</div>"
      ],
      "text/plain": [
       "       page_number  page_char_count  page_word_count  page_sentence_count  \\\n",
       "count      1208.00          1208.00          1208.00              1208.00   \n",
       "mean        603.50          1148.00           199.50                10.52   \n",
       "std         348.86           560.38            95.83                 6.55   \n",
       "min           0.00             0.00             1.00                 1.00   \n",
       "25%         301.75           762.00           134.00                 5.00   \n",
       "50%         603.50          1231.50           216.00                10.00   \n",
       "75%         905.25          1603.50           272.00                15.00   \n",
       "max        1207.00          2308.00           430.00                39.00   \n",
       "\n",
       "       page_token_count  \n",
       "count           1208.00  \n",
       "mean             287.00  \n",
       "std              140.10  \n",
       "min                0.00  \n",
       "25%              190.50  \n",
       "50%              307.88  \n",
       "75%              400.88  \n",
       "max              577.00  "
      ]
     },
     "execution_count": 10,
     "metadata": {},
     "output_type": "execute_result"
    }
   ],
   "source": [
    "df.describe().round(2)"
   ]
  },
  {
   "cell_type": "code",
   "execution_count": 11,
   "metadata": {},
   "outputs": [
    {
     "name": "stderr",
     "output_type": "stream",
     "text": [
      "c:\\datascience\\DanielsRAG\\DanielsRAG\\.venv\\Lib\\site-packages\\torch\\cuda\\__init__.py:905: UserWarning: CUDA initialization: The NVIDIA driver on your system is too old (found version 11010). Please update your GPU driver by downloading and installing a new version from the URL: http://www.nvidia.com/Download/index.aspx Alternatively, go to: https://pytorch.org to install a PyTorch version that has been compiled with your version of the CUDA driver. (Triggered internally at C:\\actions-runner\\_work\\pytorch\\pytorch\\builder\\windows\\pytorch\\c10\\cuda\\CUDAFunctions.cpp:108.)\n",
      "  r = torch._C._cuda_getDeviceCount() if nvml_count < 0 else nvml_count\n"
     ]
    },
    {
     "name": "stdout",
     "output_type": "stream",
     "text": [
      "[This is the first sentence., This is the second sentence., I like dogs]\n"
     ]
    }
   ],
   "source": [
    "# from spacy.lang.uk import Ukrainian\n",
    "from spacy.lang.en import English\n",
    "\n",
    "nlp = English()\n",
    "\n",
    "nlp.add_pipe(\"sentencizer\")\n",
    "\n",
    "doc = nlp(\"This is the first sentence. This is the second sentence. I like dogs\")   \n",
    "\n",
    "assert len(list(doc.sents)) == 3\n",
    "\n",
    "print(list(doc.sents))\n"
   ]
  },
  {
   "cell_type": "code",
   "execution_count": 12,
   "metadata": {},
   "outputs": [
    {
     "data": {
      "application/vnd.jupyter.widget-view+json": {
       "model_id": "8976d0ea3f0341eb89ddb3671f79eb7f",
       "version_major": 2,
       "version_minor": 0
      },
      "text/plain": [
       "  0%|          | 0/1208 [00:00<?, ?it/s]"
      ]
     },
     "metadata": {},
     "output_type": "display_data"
    }
   ],
   "source": [
    "for item in tqdm(pages_and_text):\n",
    "    item[\"sentences\"] = list(nlp(item[\"page_text\"]).sents)\n",
    "    \n",
    "    # Make sure all sentences are strings\n",
    "    item[\"sentences\"] = [str(sentence) for sentence in item[\"sentences\"]]\n",
    "    \n",
    "    # Count the sentences \n",
    "    item[\"page_sentence_count_spacy\"] = len(item[\"sentences\"])"
   ]
  },
  {
   "cell_type": "code",
   "execution_count": 13,
   "metadata": {},
   "outputs": [
    {
     "data": {
      "text/plain": [
       "[{'page_number': 476,\n",
       "  'page_char_count': 852,\n",
       "  'page_word_count': 139,\n",
       "  'page_sentence_count': 5,\n",
       "  'page_token_count': 213.0,\n",
       "  'page_text': '• Mixture (carbonated mixers speed absorption)  • Medications may increase the bioavailability of alcohol  Learning Activities  Technology Note: The second edition of the Human  Nutrition Open Educational Resource (OER) textbook  features interactive learning activities.  These activities are  available in the web-based textbook and not available in the  downloadable versions (EPUB, Digital PDF, Print_PDF, or  Open Document).  Learning activities may be used across various mobile  devices, however, for the best user experience it is strongly  recommended that users complete these activities using a  desktop or laptop computer and in Google Chrome.    An interactive or media element has been  excluded from this version of the text. You can  view it online here:  http://pressbooks.oer.hawaii.edu/ humannutrition2/?p=279    Introduction  |  435',\n",
       "  'sentences': ['• Mixture (carbonated mixers speed absorption)  • Medications may increase the bioavailability of alcohol  Learning Activities  Technology Note: The second edition of the Human  Nutrition Open Educational Resource (OER) textbook  features interactive learning activities.',\n",
       "   ' These activities are  available in the web-based textbook and not available in the  downloadable versions (EPUB, Digital PDF, Print_PDF, or  Open Document).',\n",
       "   ' Learning activities may be used across various mobile  devices, however, for the best user experience it is strongly  recommended that users complete these activities using a  desktop or laptop computer and in Google Chrome.',\n",
       "   '   An interactive or media element has been  excluded from this version of the text.',\n",
       "   'You can  view it online here:  http://pressbooks.oer.hawaii.edu/ humannutrition2/?p=279    Introduction  |  435'],\n",
       "  'page_sentence_count_spacy': 5}]"
      ]
     },
     "execution_count": 13,
     "metadata": {},
     "output_type": "execute_result"
    }
   ],
   "source": [
    "# Inspect an example\n",
    "random.sample(pages_and_text, k=1)"
   ]
  },
  {
   "cell_type": "code",
   "execution_count": 14,
   "metadata": {},
   "outputs": [
    {
     "data": {
      "text/html": [
       "<div>\n",
       "<style scoped>\n",
       "    .dataframe tbody tr th:only-of-type {\n",
       "        vertical-align: middle;\n",
       "    }\n",
       "\n",
       "    .dataframe tbody tr th {\n",
       "        vertical-align: top;\n",
       "    }\n",
       "\n",
       "    .dataframe thead th {\n",
       "        text-align: right;\n",
       "    }\n",
       "</style>\n",
       "<table border=\"1\" class=\"dataframe\">\n",
       "  <thead>\n",
       "    <tr style=\"text-align: right;\">\n",
       "      <th></th>\n",
       "      <th>page_number</th>\n",
       "      <th>page_char_count</th>\n",
       "      <th>page_word_count</th>\n",
       "      <th>page_sentence_count</th>\n",
       "      <th>page_token_count</th>\n",
       "      <th>page_sentence_count_spacy</th>\n",
       "    </tr>\n",
       "  </thead>\n",
       "  <tbody>\n",
       "    <tr>\n",
       "      <th>count</th>\n",
       "      <td>1208.00</td>\n",
       "      <td>1208.00</td>\n",
       "      <td>1208.00</td>\n",
       "      <td>1208.00</td>\n",
       "      <td>1208.00</td>\n",
       "      <td>1208.00</td>\n",
       "    </tr>\n",
       "    <tr>\n",
       "      <th>mean</th>\n",
       "      <td>603.50</td>\n",
       "      <td>1148.00</td>\n",
       "      <td>199.50</td>\n",
       "      <td>10.52</td>\n",
       "      <td>287.00</td>\n",
       "      <td>10.32</td>\n",
       "    </tr>\n",
       "    <tr>\n",
       "      <th>std</th>\n",
       "      <td>348.86</td>\n",
       "      <td>560.38</td>\n",
       "      <td>95.83</td>\n",
       "      <td>6.55</td>\n",
       "      <td>140.10</td>\n",
       "      <td>6.30</td>\n",
       "    </tr>\n",
       "    <tr>\n",
       "      <th>min</th>\n",
       "      <td>0.00</td>\n",
       "      <td>0.00</td>\n",
       "      <td>1.00</td>\n",
       "      <td>1.00</td>\n",
       "      <td>0.00</td>\n",
       "      <td>0.00</td>\n",
       "    </tr>\n",
       "    <tr>\n",
       "      <th>25%</th>\n",
       "      <td>301.75</td>\n",
       "      <td>762.00</td>\n",
       "      <td>134.00</td>\n",
       "      <td>5.00</td>\n",
       "      <td>190.50</td>\n",
       "      <td>5.00</td>\n",
       "    </tr>\n",
       "    <tr>\n",
       "      <th>50%</th>\n",
       "      <td>603.50</td>\n",
       "      <td>1231.50</td>\n",
       "      <td>216.00</td>\n",
       "      <td>10.00</td>\n",
       "      <td>307.88</td>\n",
       "      <td>10.00</td>\n",
       "    </tr>\n",
       "    <tr>\n",
       "      <th>75%</th>\n",
       "      <td>905.25</td>\n",
       "      <td>1603.50</td>\n",
       "      <td>272.00</td>\n",
       "      <td>15.00</td>\n",
       "      <td>400.88</td>\n",
       "      <td>15.00</td>\n",
       "    </tr>\n",
       "    <tr>\n",
       "      <th>max</th>\n",
       "      <td>1207.00</td>\n",
       "      <td>2308.00</td>\n",
       "      <td>430.00</td>\n",
       "      <td>39.00</td>\n",
       "      <td>577.00</td>\n",
       "      <td>28.00</td>\n",
       "    </tr>\n",
       "  </tbody>\n",
       "</table>\n",
       "</div>"
      ],
      "text/plain": [
       "       page_number  page_char_count  page_word_count  page_sentence_count  \\\n",
       "count      1208.00          1208.00          1208.00              1208.00   \n",
       "mean        603.50          1148.00           199.50                10.52   \n",
       "std         348.86           560.38            95.83                 6.55   \n",
       "min           0.00             0.00             1.00                 1.00   \n",
       "25%         301.75           762.00           134.00                 5.00   \n",
       "50%         603.50          1231.50           216.00                10.00   \n",
       "75%         905.25          1603.50           272.00                15.00   \n",
       "max        1207.00          2308.00           430.00                39.00   \n",
       "\n",
       "       page_token_count  page_sentence_count_spacy  \n",
       "count           1208.00                    1208.00  \n",
       "mean             287.00                      10.32  \n",
       "std              140.10                       6.30  \n",
       "min                0.00                       0.00  \n",
       "25%              190.50                       5.00  \n",
       "50%              307.88                      10.00  \n",
       "75%              400.88                      15.00  \n",
       "max              577.00                      28.00  "
      ]
     },
     "execution_count": 14,
     "metadata": {},
     "output_type": "execute_result"
    }
   ],
   "source": [
    "df = pd.DataFrame(pages_and_text)\n",
    "df.describe().round(2)"
   ]
  },
  {
   "cell_type": "code",
   "execution_count": 15,
   "metadata": {},
   "outputs": [
    {
     "data": {
      "text/plain": [
       "[[0, 1, 2, 3, 4, 5, 6, 7, 8, 9],\n",
       " [10, 11, 12, 13, 14, 15, 16, 17, 18, 19],\n",
       " [20, 21, 22, 23, 24]]"
      ]
     },
     "execution_count": 15,
     "metadata": {},
     "output_type": "execute_result"
    }
   ],
   "source": [
    "num_sentence_chunk_size = 10\n",
    "\n",
    "def split_list(input_list: list[str], \n",
    "               slice_size: int = num_sentence_chunk_size) -> list[list[str]]:\n",
    "    return [input_list[i:i+slice_size] for i in range(0, len(input_list), slice_size)]\n",
    "\n",
    "test_list = list(range(25))\n",
    "\n",
    "split_list(test_list)\n",
    "\n"
   ]
  },
  {
   "cell_type": "code",
   "execution_count": 16,
   "metadata": {},
   "outputs": [
    {
     "data": {
      "application/vnd.jupyter.widget-view+json": {
       "model_id": "dae6c9455e064f4aa9e66d1385111a8b",
       "version_major": 2,
       "version_minor": 0
      },
      "text/plain": [
       "  0%|          | 0/1208 [00:00<?, ?it/s]"
      ]
     },
     "metadata": {},
     "output_type": "display_data"
    }
   ],
   "source": [
    "for item in tqdm(pages_and_text):\n",
    "    item[\"sentence_chunks\"] = split_list(input_list = item[\"sentences\"],\n",
    "                                        slice_size = num_sentence_chunk_size)\n",
    "    item[\"num_chunks\"] = len(item[\"sentence_chunks\"])"
   ]
  },
  {
   "cell_type": "code",
   "execution_count": 17,
   "metadata": {},
   "outputs": [
    {
     "data": {
      "text/plain": [
       "[{'page_number': 16,\n",
       "  'page_char_count': 925,\n",
       "  'page_word_count': 166,\n",
       "  'page_sentence_count': 3,\n",
       "  'page_token_count': 231.25,\n",
       "  'page_text': 'Chromium  University of Hawai‘i at Mānoa Food Science and  Human Nutrition Program and Human Nutrition  Program  686  Manganese  University of Hawai‘i at Mānoa Food Science and  Human Nutrition Program and Human Nutrition  Program  689  Molybdenum  University of Hawai‘i at Mānoa Food Science and  Human Nutrition Program and Human Nutrition  Program  692  Fluoride  University of Hawai‘i at Mānoa Food Science and  Human Nutrition Program and Human Nutrition  Program  695  Summary of Trace Minerals  University of Hawai‘i at Mānoa Food Science and  Human Nutrition Program and Human Nutrition  Program  700  Part XII. Chapter 12. Nutrition Applications  Introduction  University of Hawai‘i at Mānoa Food Science and  Human Nutrition Program and Human Nutrition  Program  707  Understanding Dietary Reference Intakes  University of Hawai‘i at Mānoa Food Science and  Human Nutrition Program and Human Nutrition  Program  710',\n",
       "  'sentences': ['Chromium  University of Hawai‘i at Mānoa Food Science and  Human Nutrition Program and Human Nutrition  Program  686  Manganese  University of Hawai‘i at Mānoa Food Science and  Human Nutrition Program and Human Nutrition  Program  689  Molybdenum  University of Hawai‘i at Mānoa Food Science and  Human Nutrition Program and Human Nutrition  Program  692  Fluoride  University of Hawai‘i at Mānoa Food Science and  Human Nutrition Program and Human Nutrition  Program  695  Summary of Trace Minerals  University of Hawai‘i at Mānoa Food Science and  Human Nutrition Program and Human Nutrition  Program  700  Part XII.',\n",
       "   'Chapter 12.',\n",
       "   'Nutrition Applications  Introduction  University of Hawai‘i at Mānoa Food Science and  Human Nutrition Program and Human Nutrition  Program  707  Understanding Dietary Reference Intakes  University of Hawai‘i at Mānoa Food Science and  Human Nutrition Program and Human Nutrition  Program  710'],\n",
       "  'page_sentence_count_spacy': 3,\n",
       "  'sentence_chunks': [['Chromium  University of Hawai‘i at Mānoa Food Science and  Human Nutrition Program and Human Nutrition  Program  686  Manganese  University of Hawai‘i at Mānoa Food Science and  Human Nutrition Program and Human Nutrition  Program  689  Molybdenum  University of Hawai‘i at Mānoa Food Science and  Human Nutrition Program and Human Nutrition  Program  692  Fluoride  University of Hawai‘i at Mānoa Food Science and  Human Nutrition Program and Human Nutrition  Program  695  Summary of Trace Minerals  University of Hawai‘i at Mānoa Food Science and  Human Nutrition Program and Human Nutrition  Program  700  Part XII.',\n",
       "    'Chapter 12.',\n",
       "    'Nutrition Applications  Introduction  University of Hawai‘i at Mānoa Food Science and  Human Nutrition Program and Human Nutrition  Program  707  Understanding Dietary Reference Intakes  University of Hawai‘i at Mānoa Food Science and  Human Nutrition Program and Human Nutrition  Program  710']],\n",
       "  'num_chunks': 1}]"
      ]
     },
     "execution_count": 17,
     "metadata": {},
     "output_type": "execute_result"
    }
   ],
   "source": [
    "random.sample(pages_and_text, k=1)"
   ]
  },
  {
   "cell_type": "code",
   "execution_count": 18,
   "metadata": {},
   "outputs": [
    {
     "data": {
      "text/html": [
       "<div>\n",
       "<style scoped>\n",
       "    .dataframe tbody tr th:only-of-type {\n",
       "        vertical-align: middle;\n",
       "    }\n",
       "\n",
       "    .dataframe tbody tr th {\n",
       "        vertical-align: top;\n",
       "    }\n",
       "\n",
       "    .dataframe thead th {\n",
       "        text-align: right;\n",
       "    }\n",
       "</style>\n",
       "<table border=\"1\" class=\"dataframe\">\n",
       "  <thead>\n",
       "    <tr style=\"text-align: right;\">\n",
       "      <th></th>\n",
       "      <th>page_number</th>\n",
       "      <th>page_char_count</th>\n",
       "      <th>page_word_count</th>\n",
       "      <th>page_sentence_count</th>\n",
       "      <th>page_token_count</th>\n",
       "      <th>page_sentence_count_spacy</th>\n",
       "      <th>num_chunks</th>\n",
       "    </tr>\n",
       "  </thead>\n",
       "  <tbody>\n",
       "    <tr>\n",
       "      <th>count</th>\n",
       "      <td>1208.00</td>\n",
       "      <td>1208.00</td>\n",
       "      <td>1208.00</td>\n",
       "      <td>1208.00</td>\n",
       "      <td>1208.00</td>\n",
       "      <td>1208.00</td>\n",
       "      <td>1208.00</td>\n",
       "    </tr>\n",
       "    <tr>\n",
       "      <th>mean</th>\n",
       "      <td>603.50</td>\n",
       "      <td>1148.00</td>\n",
       "      <td>199.50</td>\n",
       "      <td>10.52</td>\n",
       "      <td>287.00</td>\n",
       "      <td>10.32</td>\n",
       "      <td>1.53</td>\n",
       "    </tr>\n",
       "    <tr>\n",
       "      <th>std</th>\n",
       "      <td>348.86</td>\n",
       "      <td>560.38</td>\n",
       "      <td>95.83</td>\n",
       "      <td>6.55</td>\n",
       "      <td>140.10</td>\n",
       "      <td>6.30</td>\n",
       "      <td>0.64</td>\n",
       "    </tr>\n",
       "    <tr>\n",
       "      <th>min</th>\n",
       "      <td>0.00</td>\n",
       "      <td>0.00</td>\n",
       "      <td>1.00</td>\n",
       "      <td>1.00</td>\n",
       "      <td>0.00</td>\n",
       "      <td>0.00</td>\n",
       "      <td>0.00</td>\n",
       "    </tr>\n",
       "    <tr>\n",
       "      <th>25%</th>\n",
       "      <td>301.75</td>\n",
       "      <td>762.00</td>\n",
       "      <td>134.00</td>\n",
       "      <td>5.00</td>\n",
       "      <td>190.50</td>\n",
       "      <td>5.00</td>\n",
       "      <td>1.00</td>\n",
       "    </tr>\n",
       "    <tr>\n",
       "      <th>50%</th>\n",
       "      <td>603.50</td>\n",
       "      <td>1231.50</td>\n",
       "      <td>216.00</td>\n",
       "      <td>10.00</td>\n",
       "      <td>307.88</td>\n",
       "      <td>10.00</td>\n",
       "      <td>1.00</td>\n",
       "    </tr>\n",
       "    <tr>\n",
       "      <th>75%</th>\n",
       "      <td>905.25</td>\n",
       "      <td>1603.50</td>\n",
       "      <td>272.00</td>\n",
       "      <td>15.00</td>\n",
       "      <td>400.88</td>\n",
       "      <td>15.00</td>\n",
       "      <td>2.00</td>\n",
       "    </tr>\n",
       "    <tr>\n",
       "      <th>max</th>\n",
       "      <td>1207.00</td>\n",
       "      <td>2308.00</td>\n",
       "      <td>430.00</td>\n",
       "      <td>39.00</td>\n",
       "      <td>577.00</td>\n",
       "      <td>28.00</td>\n",
       "      <td>3.00</td>\n",
       "    </tr>\n",
       "  </tbody>\n",
       "</table>\n",
       "</div>"
      ],
      "text/plain": [
       "       page_number  page_char_count  page_word_count  page_sentence_count  \\\n",
       "count      1208.00          1208.00          1208.00              1208.00   \n",
       "mean        603.50          1148.00           199.50                10.52   \n",
       "std         348.86           560.38            95.83                 6.55   \n",
       "min           0.00             0.00             1.00                 1.00   \n",
       "25%         301.75           762.00           134.00                 5.00   \n",
       "50%         603.50          1231.50           216.00                10.00   \n",
       "75%         905.25          1603.50           272.00                15.00   \n",
       "max        1207.00          2308.00           430.00                39.00   \n",
       "\n",
       "       page_token_count  page_sentence_count_spacy  num_chunks  \n",
       "count           1208.00                    1208.00     1208.00  \n",
       "mean             287.00                      10.32        1.53  \n",
       "std              140.10                       6.30        0.64  \n",
       "min                0.00                       0.00        0.00  \n",
       "25%              190.50                       5.00        1.00  \n",
       "50%              307.88                      10.00        1.00  \n",
       "75%              400.88                      15.00        2.00  \n",
       "max              577.00                      28.00        3.00  "
      ]
     },
     "execution_count": 18,
     "metadata": {},
     "output_type": "execute_result"
    }
   ],
   "source": [
    "df = pd.DataFrame(pages_and_text)\n",
    "\n",
    "df.describe().round(2)"
   ]
  },
  {
   "cell_type": "code",
   "execution_count": 19,
   "metadata": {},
   "outputs": [
    {
     "data": {
      "text/html": [
       "<div>\n",
       "<style scoped>\n",
       "    .dataframe tbody tr th:only-of-type {\n",
       "        vertical-align: middle;\n",
       "    }\n",
       "\n",
       "    .dataframe tbody tr th {\n",
       "        vertical-align: top;\n",
       "    }\n",
       "\n",
       "    .dataframe thead th {\n",
       "        text-align: right;\n",
       "    }\n",
       "</style>\n",
       "<table border=\"1\" class=\"dataframe\">\n",
       "  <thead>\n",
       "    <tr style=\"text-align: right;\">\n",
       "      <th></th>\n",
       "      <th>page_number</th>\n",
       "      <th>page_char_count</th>\n",
       "      <th>page_word_count</th>\n",
       "      <th>page_sentence_count</th>\n",
       "      <th>page_token_count</th>\n",
       "      <th>page_text</th>\n",
       "      <th>sentences</th>\n",
       "      <th>page_sentence_count_spacy</th>\n",
       "      <th>sentence_chunks</th>\n",
       "      <th>num_chunks</th>\n",
       "    </tr>\n",
       "  </thead>\n",
       "  <tbody>\n",
       "    <tr>\n",
       "      <th>0</th>\n",
       "      <td>0</td>\n",
       "      <td>29</td>\n",
       "      <td>4</td>\n",
       "      <td>1</td>\n",
       "      <td>7.25</td>\n",
       "      <td>Human Nutrition: 2020 Edition</td>\n",
       "      <td>[Human Nutrition: 2020 Edition]</td>\n",
       "      <td>1</td>\n",
       "      <td>[[Human Nutrition: 2020 Edition]]</td>\n",
       "      <td>1</td>\n",
       "    </tr>\n",
       "    <tr>\n",
       "      <th>1</th>\n",
       "      <td>1</td>\n",
       "      <td>0</td>\n",
       "      <td>1</td>\n",
       "      <td>1</td>\n",
       "      <td>0.00</td>\n",
       "      <td></td>\n",
       "      <td>[]</td>\n",
       "      <td>0</td>\n",
       "      <td>[]</td>\n",
       "      <td>0</td>\n",
       "    </tr>\n",
       "  </tbody>\n",
       "</table>\n",
       "</div>"
      ],
      "text/plain": [
       "   page_number  page_char_count  page_word_count  page_sentence_count  \\\n",
       "0            0               29                4                    1   \n",
       "1            1                0                1                    1   \n",
       "\n",
       "   page_token_count                      page_text  \\\n",
       "0              7.25  Human Nutrition: 2020 Edition   \n",
       "1              0.00                                  \n",
       "\n",
       "                         sentences  page_sentence_count_spacy  \\\n",
       "0  [Human Nutrition: 2020 Edition]                          1   \n",
       "1                               []                          0   \n",
       "\n",
       "                     sentence_chunks  num_chunks  \n",
       "0  [[Human Nutrition: 2020 Edition]]           1  \n",
       "1                                 []           0  "
      ]
     },
     "execution_count": 19,
     "metadata": {},
     "output_type": "execute_result"
    }
   ],
   "source": [
    "df.head(2)"
   ]
  },
  {
   "cell_type": "code",
   "execution_count": 32,
   "metadata": {},
   "outputs": [
    {
     "data": {
      "application/vnd.jupyter.widget-view+json": {
       "model_id": "97771f5768f94a8293cae8833ad74c18",
       "version_major": 2,
       "version_minor": 0
      },
      "text/plain": [
       "  0%|          | 0/1208 [00:00<?, ?it/s]"
      ]
     },
     "metadata": {},
     "output_type": "display_data"
    }
   ],
   "source": [
    "import re\n",
    "\n",
    "pages_and_chunks = []\n",
    "\n",
    "for item in tqdm(pages_and_text):\n",
    "    for sentence_chunk in item[\"sentence_chunks\"]:\n",
    "        chunk_dict ={}\n",
    "        chunk_dict[\"page_number \"] = item[\"page_number\"]\n",
    "        joined_sentence_chunk = \"\".join(sentence_chunk).replace(\"  \", \" \").strip()\n",
    "        joined_sentence_chunk = re.sub(r'\\.([A-Z])', r'. \\1', joined_sentence_chunk)\n",
    "        chunk_dict[\"sentence_chunk\"] = joined_sentence_chunk\n",
    "        chunk_dict[\"chunk_char_count\"] = len(joined_sentence_chunk)\n",
    "        chunk_dict[\"chunk_word_count\"] = len([word for word in joined_sentence_chunk.split(\" \")])\n",
    "        chunk_dict[\"chunk_token_count\"] = len(joined_sentence_chunk) / 4\n",
    "\n",
    "        pages_and_chunks.append(chunk_dict)\n"
   ]
  },
  {
   "cell_type": "code",
   "execution_count": 33,
   "metadata": {},
   "outputs": [
    {
     "data": {
      "text/plain": [
       "[{'page_number ': 843,\n",
       "  'sentence_chunk': 'The most common food aversions are milk, meats, pork, and liver. For most women, it is not harmful 11. Reid, R. L., & Lorenzo, M. (2018). SCUBA Diving in Pregnancy. Journal of Obstetrics and Gynaecology Canada, 40(11), 1490–1496.https://doi.org/10.1016/ j.jogc.2017.11.024) 802 | Pregnancy',\n",
       "  'chunk_char_count': 289,\n",
       "  'chunk_word_count': 42,\n",
       "  'chunk_token_count': 72.25}]"
      ]
     },
     "execution_count": 33,
     "metadata": {},
     "output_type": "execute_result"
    }
   ],
   "source": [
    "random.sample(pages_and_chunks,1)"
   ]
  },
  {
   "cell_type": "code",
   "execution_count": 29,
   "metadata": {},
   "outputs": [
    {
     "data": {
      "text/plain": [
       "1843"
      ]
     },
     "execution_count": 29,
     "metadata": {},
     "output_type": "execute_result"
    }
   ],
   "source": [
    "len(pages_and_chunks)"
   ]
  },
  {
   "cell_type": "code",
   "execution_count": 40,
   "metadata": {},
   "outputs": [
    {
     "data": {
      "text/html": [
       "<div>\n",
       "<style scoped>\n",
       "    .dataframe tbody tr th:only-of-type {\n",
       "        vertical-align: middle;\n",
       "    }\n",
       "\n",
       "    .dataframe tbody tr th {\n",
       "        vertical-align: top;\n",
       "    }\n",
       "\n",
       "    .dataframe thead th {\n",
       "        text-align: right;\n",
       "    }\n",
       "</style>\n",
       "<table border=\"1\" class=\"dataframe\">\n",
       "  <thead>\n",
       "    <tr style=\"text-align: right;\">\n",
       "      <th></th>\n",
       "      <th>page_number</th>\n",
       "      <th>chunk_char_count</th>\n",
       "      <th>chunk_word_count</th>\n",
       "      <th>chunk_token_count</th>\n",
       "    </tr>\n",
       "  </thead>\n",
       "  <tbody>\n",
       "    <tr>\n",
       "      <th>count</th>\n",
       "      <td>1843.00</td>\n",
       "      <td>1843.00</td>\n",
       "      <td>1843.00</td>\n",
       "      <td>1843.00</td>\n",
       "    </tr>\n",
       "    <tr>\n",
       "      <th>mean</th>\n",
       "      <td>624.38</td>\n",
       "      <td>734.10</td>\n",
       "      <td>112.74</td>\n",
       "      <td>183.52</td>\n",
       "    </tr>\n",
       "    <tr>\n",
       "      <th>std</th>\n",
       "      <td>347.79</td>\n",
       "      <td>447.51</td>\n",
       "      <td>71.24</td>\n",
       "      <td>111.88</td>\n",
       "    </tr>\n",
       "    <tr>\n",
       "      <th>min</th>\n",
       "      <td>0.00</td>\n",
       "      <td>12.00</td>\n",
       "      <td>3.00</td>\n",
       "      <td>3.00</td>\n",
       "    </tr>\n",
       "    <tr>\n",
       "      <th>25%</th>\n",
       "      <td>321.50</td>\n",
       "      <td>315.00</td>\n",
       "      <td>45.00</td>\n",
       "      <td>78.75</td>\n",
       "    </tr>\n",
       "    <tr>\n",
       "      <th>50%</th>\n",
       "      <td>627.00</td>\n",
       "      <td>745.00</td>\n",
       "      <td>115.00</td>\n",
       "      <td>186.25</td>\n",
       "    </tr>\n",
       "    <tr>\n",
       "      <th>75%</th>\n",
       "      <td>931.00</td>\n",
       "      <td>1118.00</td>\n",
       "      <td>173.00</td>\n",
       "      <td>279.50</td>\n",
       "    </tr>\n",
       "    <tr>\n",
       "      <th>max</th>\n",
       "      <td>1207.00</td>\n",
       "      <td>1830.00</td>\n",
       "      <td>297.00</td>\n",
       "      <td>457.50</td>\n",
       "    </tr>\n",
       "  </tbody>\n",
       "</table>\n",
       "</div>"
      ],
      "text/plain": [
       "       page_number   chunk_char_count  chunk_word_count  chunk_token_count\n",
       "count       1843.00           1843.00           1843.00            1843.00\n",
       "mean         624.38            734.10            112.74             183.52\n",
       "std          347.79            447.51             71.24             111.88\n",
       "min            0.00             12.00              3.00               3.00\n",
       "25%          321.50            315.00             45.00              78.75\n",
       "50%          627.00            745.00            115.00             186.25\n",
       "75%          931.00           1118.00            173.00             279.50\n",
       "max         1207.00           1830.00            297.00             457.50"
      ]
     },
     "execution_count": 40,
     "metadata": {},
     "output_type": "execute_result"
    }
   ],
   "source": [
    "df = pd.DataFrame(pages_and_chunks)\n",
    "\n",
    "df.describe().round(2)"
   ]
  },
  {
   "cell_type": "code",
   "execution_count": 41,
   "metadata": {},
   "outputs": [
    {
     "name": "stdout",
     "output_type": "stream",
     "text": [
      "Chunk token count: 19.25 | Text: The function of the anticoagulant drug warfarin is 544 | Fat-Soluble Vitamins\n",
      "Chunk token count: 25.0 | Text: http://pressbooks.oer.hawaii.edu/ humannutrition2/?p=521  996 | The Major Types of Foodborne Illness\n",
      "Chunk token count: 10.0 | Text: Table 3.6 Salt Alternatives 186 | Sodium\n",
      "Chunk token count: 21.0 | Text: Updated September 2003. Accessed November 28,2017. Discovering Nutrition Facts | 735\n",
      "Chunk token count: 29.5 | Text: 2011. https://www.ers.usda.gov/publications/pub- details/?pubid=44909. Accessed April 15, 2018. 1138 | Food Insecurity\n"
     ]
    }
   ],
   "source": [
    "min_token_length = 30\n",
    "for row in df[df[\"chunk_token_count\"] <= min_token_length].sample(5).iterrows():\n",
    "    print(f'Chunk token count: {row[1][\"chunk_token_count\"]} | Text: {row[1][\"sentence_chunk\"]}')"
   ]
  },
  {
   "cell_type": "code",
   "execution_count": 43,
   "metadata": {},
   "outputs": [
    {
     "data": {
      "text/plain": [
       "[{'page_number ': 2,\n",
       "  'sentence_chunk': 'Human Nutrition: 2020 Edition UNIVERSITY OF HAWAI‘I AT MĀNOA FOOD SCIENCE AND HUMAN NUTRITION PROGRAM ALAN TITCHENAL, SKYLAR HARA, NOEMI ARCEO CAACBAY, WILLIAM MEINKE-LAU, YA-YUN YANG, MARIE KAINOA FIALKOWSKI REVILLA, JENNIFER DRAPER, GEMADY LANGFELDER, CHERYL GIBBY, CHYNA NICOLE CHUN, AND ALLISON CALABRESE',\n",
       "  'chunk_char_count': 308,\n",
       "  'chunk_word_count': 42,\n",
       "  'chunk_token_count': 77.0},\n",
       " {'page_number ': 3,\n",
       "  'sentence_chunk': 'Human Nutrition: 2020 Edition by University of Hawai‘i at Mānoa Food Science and Human Nutrition Program is licensed under a Creative Commons Attribution 4.0 International License, except where otherwise noted.',\n",
       "  'chunk_char_count': 210,\n",
       "  'chunk_word_count': 30,\n",
       "  'chunk_token_count': 52.5}]"
      ]
     },
     "execution_count": 43,
     "metadata": {},
     "output_type": "execute_result"
    }
   ],
   "source": [
    "pages_and_chunks_over_min_token_len = df[df[\"chunk_token_count\"] > min_token_length].to_dict(orient = \"records\")\n",
    "\n",
    "pages_and_chunks_over_min_token_len[:2]"
   ]
  },
  {
   "cell_type": "markdown",
   "metadata": {},
   "source": [
    "### Embedding"
   ]
  },
  {
   "cell_type": "code",
   "execution_count": null,
   "metadata": {},
   "outputs": [],
   "source": [
    " "
   ]
  }
 ],
 "metadata": {
  "kernelspec": {
   "display_name": ".venv",
   "language": "python",
   "name": "python3"
  },
  "language_info": {
   "codemirror_mode": {
    "name": "ipython",
    "version": 3
   },
   "file_extension": ".py",
   "mimetype": "text/x-python",
   "name": "python",
   "nbconvert_exporter": "python",
   "pygments_lexer": "ipython3",
   "version": "3.11.9"
  }
 },
 "nbformat": 4,
 "nbformat_minor": 2
}
